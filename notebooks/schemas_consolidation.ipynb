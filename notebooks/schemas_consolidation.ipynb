{
 "cells": [
  {
   "cell_type": "markdown",
   "source": [
    "# Imports"
   ],
   "metadata": {}
  },
  {
   "cell_type": "code",
   "execution_count": 83,
   "source": [
    "import pandas as pd\n",
    "import numpy as np\n",
    "import requests\n",
    "import json\n",
    "from json import JSONDecodeError\n",
    "import chardet\n",
    "import csv\n",
    "from io import StringIO\n",
    "import datetime\n",
    "from pathlib import Path\n",
    "import os\n",
    "import yaml\n",
    "from datetime import datetime\n",
    "import time\n",
    "import emails\n",
    "import shutil"
   ],
   "outputs": [],
   "metadata": {}
  },
  {
   "cell_type": "markdown",
   "source": [
    "# Parameters"
   ],
   "metadata": {}
  },
  {
   "cell_type": "code",
   "execution_count": 139,
   "source": [
    "#API PARAMETERS\n",
    "\n",
    "api_url = API_URL\n",
    "\n",
    "HEADERS = {\n",
    "    'X-API-KEY': API_KEY,\n",
    "    }"
   ],
   "outputs": [
    {
     "output_type": "error",
     "ename": "NameError",
     "evalue": "name 'API_URL' is not defined",
     "traceback": [
      "\u001b[0;31m---------------------------------------------------------------------------\u001b[0m",
      "\u001b[0;31mNameError\u001b[0m                                 Traceback (most recent call last)",
      "\u001b[0;32m/var/folders/cg/b2_z5vjn52x7nyrtvtmwqsqh0000gp/T/ipykernel_80641/2627800266.py\u001b[0m in \u001b[0;36m<module>\u001b[0;34m\u001b[0m\n\u001b[1;32m      1\u001b[0m \u001b[0;31m#API PARAMETERS\u001b[0m\u001b[0;34m\u001b[0m\u001b[0;34m\u001b[0m\u001b[0;34m\u001b[0m\u001b[0m\n\u001b[1;32m      2\u001b[0m \u001b[0;34m\u001b[0m\u001b[0m\n\u001b[0;32m----> 3\u001b[0;31m \u001b[0mapi_url\u001b[0m \u001b[0;34m=\u001b[0m \u001b[0mAPI_URL\u001b[0m\u001b[0;34m\u001b[0m\u001b[0;34m\u001b[0m\u001b[0m\n\u001b[0m\u001b[1;32m      4\u001b[0m \u001b[0;34m\u001b[0m\u001b[0m\n\u001b[1;32m      5\u001b[0m HEADERS = {\n",
      "\u001b[0;31mNameError\u001b[0m: name 'API_URL' is not defined"
     ]
    }
   ],
   "metadata": {}
  },
  {
   "cell_type": "code",
   "execution_count": 85,
   "source": [
    "#MAIL PARAMETERS\n",
    "# smtp_host = os.environ['SCHEMA_BOT_MAIL_SMTP']\n",
    "# smtp_user = os.environ['SCHEMA_BOT_MAIL_USER']\n",
    "# smtp_password = os.environ['SCHEMA_BOT_MAIL_PASSWORD']"
   ],
   "outputs": [],
   "metadata": {}
  },
  {
   "cell_type": "code",
   "execution_count": 86,
   "source": [
    "current_path = Path(WORKING_DIR)\n",
    "current_path"
   ],
   "outputs": [
    {
     "output_type": "execute_result",
     "data": {
      "text/plain": [
       "PosixPath('.')"
      ]
     },
     "metadata": {},
     "execution_count": 86
    }
   ],
   "metadata": {}
  },
  {
   "cell_type": "code",
   "execution_count": 87,
   "source": [
    "tmp_path = Path(TMP_FOLDER)"
   ],
   "outputs": [],
   "metadata": {}
  },
  {
   "cell_type": "code",
   "execution_count": 88,
   "source": [
    "config_path = os.path.join(current_path, 'config_tableschema.yml')"
   ],
   "outputs": [],
   "metadata": {}
  },
  {
   "cell_type": "code",
   "execution_count": 89,
   "source": [
    "schemas_list_url = SCHEMA_CATALOG"
   ],
   "outputs": [],
   "metadata": {}
  },
  {
   "cell_type": "code",
   "execution_count": 90,
   "source": [
    "schema_url_base = api_url + 'datasets/?schema={schema_name}'\n",
    "tag_url_base = api_url + 'datasets/?tag={tag}'\n",
    "search_url_base = api_url + 'datasets?q={search_word}'"
   ],
   "outputs": [],
   "metadata": {}
  },
  {
   "cell_type": "code",
   "execution_count": 91,
   "source": [
    "validata_base_url = \"https://validata-api.app.etalab.studio/validate?schema={schema_url}&url={rurl}\""
   ],
   "outputs": [],
   "metadata": {}
  },
  {
   "cell_type": "code",
   "execution_count": 92,
   "source": [
    "MINIMUM_VALID_RESOURCES_TO_CONSOLIDATE = 5"
   ],
   "outputs": [],
   "metadata": {}
  },
  {
   "cell_type": "code",
   "execution_count": 93,
   "source": [
    "#Template for consolidation datasets title\n",
    "\n",
    "datasets_title_template = 'Fichiers consolidés des données respectant le schéma \"{schema_title}\"'\n",
    "\n",
    "#Template for consolidation datasets description (Markdown)\n",
    "\n",
    "datasets_description_template = '''\n",
    "Ceci est un jeu de données généré automatiquement par Etalab. Il regroupe les données qui respectent le schéma {schema_name}, par version du schéma.\n",
    "\n",
    "La fiche présentant le schéma et ses caractéristiques est disponible sur [https://schema.data.gouv.fr/{schema_name}/latest.html](https://schema.data.gouv.fr/{schema_name}/latest.html)\n",
    "\n",
    "### Qu'est-ce qu'un schéma ?\n",
    "\n",
    "Les schémas de données permettent de décrire des modèles de données : quels sont les différents champs, comment sont représentées les données, quelles sont les valeurs possibles, etc.\n",
    "\n",
    "Vous pouvez retrouver l'ensemble des schémas au référentiel sur le site schema.data.gouv.fr\n",
    "\n",
    "### Comment sont produites ces données ?\n",
    "\n",
    "Ces données sont produites à partir des ressources publiées sur le site [data.gouv.fr](http://data.gouv.fr) par différents producteurs. Etalab détecte automatiquement les ressources qui obéissent à un schéma et concatène l'ensemble des données en un seul fichier, par version de schéma.\n",
    "\n",
    "Ces fichiers consolidés permettent aux réutilisateurs de manipuler un seul fichier plutôt qu'une multitude de ressources et contribue ainsi à améliorer la qualité de l'open data.\n",
    "\n",
    "### Comment intégrer mes données dans ces fichiers consolidés ?\n",
    "\n",
    "Si vous êtes producteurs de données et que vous ne retrouvez pas vos données dans ces fichiers consolidés, c'est probablement parce que votre ressource sur [data.gouv.fr](http://data.gouv.fr) n'est pas conforme au schéma. Vous pouvez vérifier la conformité de votre ressource via l'outil [https://publier.etalab.studio/upload?schema={schema_name}](https://publier.etalab.studio/upload?schema={schema_name})\n",
    "\n",
    "En cas de problème persistant, vous pouvez contacter le support data.gouv [lien vers [https://support.data.gouv.fr/](https://support.data.gouv.fr/)].\n",
    "\n",
    "### Comment produire des données conformes ?\n",
    "\n",
    "Un certain nombre d'outils existent pour accompagner les producteurs de données. Vous pouvez notamment vous connecter sur le site [https://publier.etalab.studio/select?schema={schema_name}](https://publier.etalab.studio/select?schema={schema_name}) pour pouvoir saisir vos données selon trois modes :\n",
    "\n",
    "- upload de fichier existant\n",
    "- saisie via formulaire\n",
    "- saisie via tableur\n",
    "'''"
   ],
   "outputs": [],
   "metadata": {}
  },
  {
   "cell_type": "code",
   "execution_count": 94,
   "source": [
    "#Template for mail/comment (added, updated and deleted schema)\n",
    "\n",
    "added_schema_comment_template = '''\n",
    "Bonjour,\n",
    "\n",
    "Vous recevez ce message car suite à un contrôle automatique de vos données par notre robot de validation, nous constatons que le fichier {resource_title} de ce jeu de données est conforme au schéma {schema_name} (version {most_recent_valid_version}).\n",
    "Nous avons donc automatiquement ajouté à ce fichier la métadonnée de schéma correspondante, ce qui atteste de la qualité des données que vous avez publiées.\n",
    "\n",
    "Une question ? Écrivez à validation@data.gouv.fr en incluant l'URL du jeu de données concerné.\n",
    "'''\n",
    "\n",
    "updated_schema_comment_template = '''\n",
    "Bonjour,\n",
    "\n",
    "Vous recevez ce message car suite à un contrôle automatique de vos données par notre robot de validation, nous constatons que le fichier {resource_title} de ce jeu de données (qui respecte le schéma {schema_name}) n'avait pas dans ses métadonnées la version de schéma la plus récente qu'il respecte.\n",
    "Nous avons donc automatiquement mis à jour les métadonnées du fichier en indiquant la version adéquate du schéma.\n",
    "\n",
    "Version précédemment indiquée : {initial_version_name}\n",
    "Version mise à jour : {most_recent_valid_version}\n",
    "\n",
    "Une question ? Écrivez à validation@data.gouv.fr en incluant l'URL du jeu de données concerné.\n",
    "'''\n",
    "\n",
    "deleted_schema_mail_template_org = '''\n",
    "Bonjour,<br />\n",
    "<br />\n",
    "Vous recevez ce message automatique car vous êtes admin de l'organisation {organisation_name} sur data.gouv.fr. Votre organisation a publié le jeu de données {dataset_title}, dont le fichier {resource_title} se veut conforme au schéma {schema_name}.<br />\n",
    "Cependant, suite à un contrôle automatique de vos données par notre robot de validation, il s'avère que ce fichier ne respecte aucune version de ce schéma.<br />\n",
    "Nous avons donc automatiquement supprimé la métadonnée de schéma associée à ce fichier.<br />\n",
    "<br />\n",
    "Vous pouvez consulter le [rapport de validation](https://validata.etalab.studio/table-schema?input=url&schema_url={schema_url}&url={resource_url}&repair=true) pour vous aider à corriger les erreurs (ce rapport est relatif à la version la plus récente du schéma, mais votre fichier a bien été testé vis-à-vis de toutes les versions possibles du schéma).<br />\n",
    "<br />\n",
    "Vous pourrez alors restaurer la métadonnée de schéma une fois un fichier valide publié.<br />\n",
    "<br />\n",
    "Une question ? Écrivez à validation@data.gouv.fr en incluant l'URL du jeu de données concerné.<br />\n",
    "<br />\n",
    "Cordialement,<br />\n",
    "<br />\n",
    "L'équipe de data.gouv.fr\n",
    "'''\n",
    "\n",
    "deleted_schema_mail_template_own = '''\n",
    "Bonjour,<br />\n",
    "<br />\n",
    "Vous recevez ce message automatique car vous avez publié sur data.gouv.fr le jeu de données {dataset_title}, dont le fichier {resource_title} se veut conforme au schéma {schema_name}.<br />\n",
    "Cependant, suite à un contrôle automatique de vos données par notre robot de validation, il s'avère que ce fichier ne respecte aucune version de ce schéma.<br />\n",
    "Nous avons donc automatiquement supprimé la métadonnée de schéma associée à ce fichier.<br />\n",
    "<br />\n",
    "Vous pouvez consulter le [rapport de validation](https://validata.etalab.studio/table-schema?input=url&schema_url={schema_url}&url={resource_url}&repair=true) pour vous aider à corriger les erreurs (ce rapport est relatif à la version la plus récente du schéma, mais votre fichier a bien été testé vis-à-vis de toutes les versions possibles du schéma).<br />\n",
    "<br />\n",
    "Vous pourrez alors restaurer la métadonnée de schéma une fois un fichier valide publié.<br />\n",
    "<br />\n",
    "Une question ? Écrivez à validation@data.gouv.fr en incluant l'URL du jeu de données concerné.<br />\n",
    "<br />\n",
    "Cordialement,<br />\n",
    "<br />\n",
    "L'équipe de data.gouv.fr\n",
    "'''\n",
    "\n",
    "deleted_schema_comment_template = '''\n",
    "Bonjour,\n",
    "\n",
    "Vous recevez ce message car suite à un contrôle automatique de vos données par notre robot de validation, nous constatons que le fichier {resource_title} de ce jeu de données se veut conforme au schéma {schema_name} alors qu'il ne respecte aucune version de ce schéma.\n",
    "Nous avons donc automatiquement supprimé la métadonnée de schéma associée à ce fichier.\n",
    "\n",
    "Vous pouvez consulter le [rapport de validation](https://validata.etalab.studio/table-schema?input=url&schema_url={schema_url}&url={resource_url}&repair=true) pour vous aider à corriger les erreurs (ce rapport est relatif à la version la plus récente du schéma, mais votre fichier a bien été testé vis-à-vis de toutes les versions possibles du schéma).\n",
    "\n",
    "Vous pourrez alors restaurer la métadonnée de schéma une fois un fichier valide publié.\n",
    "\n",
    "Une question ? Écrivez à validation@data.gouv.fr en incluant l'URL du jeu de données concerné.\n",
    "'''"
   ],
   "outputs": [],
   "metadata": {}
  },
  {
   "cell_type": "markdown",
   "source": [
    "# Functions"
   ],
   "metadata": {}
  },
  {
   "cell_type": "code",
   "execution_count": 95,
   "source": [
    "#Get the dictionnary with information on the schema (when schemas catagalogue list already loaded)\n",
    "def get_schema_dict(schema_name, schemas_catalogue_list) :\n",
    "    res = None\n",
    "    for schema in schemas_catalogue_list :\n",
    "        if schema['name'] == schema_name :\n",
    "            res = schema\n",
    "    \n",
    "    if res is None :\n",
    "        print(\"No schema named '{}' found.\".format(schema_name))\n",
    "    \n",
    "    return res"
   ],
   "outputs": [],
   "metadata": {}
  },
  {
   "cell_type": "code",
   "execution_count": 96,
   "source": [
    "#Add the schema default configuration in the configuration YAML file\n",
    "def add_schema_default_config(schema_name, config_path) :\n",
    "    \n",
    "    schema_dict = get_schema_dict(schema_name, schemas_catalogue_list)\n",
    "    schema_title = schema_dict['title']\n",
    "    \n",
    "    default_schema_config_dict = {\n",
    "        'consolidate': False,\n",
    "        'search_words':[schema_title] # setting schema title as a default search keyword for resources\n",
    "    }\n",
    "    \n",
    "    if os.path.exists(config_path) :\n",
    "        with open(config_path, 'r') as infile :\n",
    "            config_dict = yaml.safe_load(infile)\n",
    "    else :\n",
    "        config_dict = {}\n",
    "        \n",
    "    config_dict[schema_name] = default_schema_config_dict\n",
    "    \n",
    "    with open(config_path, 'w') as outfile:\n",
    "        yaml.dump(config_dict, outfile, default_flow_style=False)"
   ],
   "outputs": [],
   "metadata": {}
  },
  {
   "cell_type": "code",
   "execution_count": 97,
   "source": [
    "#API parsing to get resources infos based on schema metadata, tags and search keywords\n",
    "def parse_api(url):\n",
    "    r = requests.get(url)\n",
    "    data = r.json()\n",
    "    nb_pages = int(data['total']/data['page_size'])+1\n",
    "    arr = []\n",
    "    for i in range(1,nb_pages+1):\n",
    "        r = requests.get(url+\"&page=\"+str(i))\n",
    "        data = r.json()\n",
    "        for dataset in data['data']:\n",
    "            for res in dataset['resources']:\n",
    "                if 'format=csv' in res['url']:\n",
    "                    filename = res['url'].split('/')[-3] + '.csv'\n",
    "                else:\n",
    "                    filename = res['url'].split('/')[-1]\n",
    "                ext = filename.split('.')[-1]\n",
    "                obj = {}\n",
    "                obj['dataset_id'] = dataset['id']\n",
    "                obj['dataset_title'] = dataset['title']\n",
    "                obj['dataset_slug'] = dataset['slug']\n",
    "                obj['dataset_page'] = dataset['page']\n",
    "                obj['resource_id'] = res['id']\n",
    "                obj['resource_title'] = res['title']\n",
    "                obj['resource_url'] = res['url']\n",
    "                obj['resource_last_modified'] = res['last_modified']\n",
    "                if ext != 'csv':\n",
    "                    obj['error_type'] = \"wrong-file-format\"\n",
    "                else:\n",
    "                    if not dataset['organization'] and not dataset['owner']:\n",
    "                        obj['error_type'] = \"orphan-dataset\"\n",
    "                    else:\n",
    "                        obj['organization_or_owner'] = dataset['organization']['slug'] if dataset['organization'] else dataset['owner']['slug']\n",
    "                        obj['error_type'] = None\n",
    "                arr.append(obj)\n",
    "    df = pd.DataFrame(arr)\n",
    "    return df"
   ],
   "outputs": [],
   "metadata": {}
  },
  {
   "cell_type": "code",
   "execution_count": 98,
   "source": [
    "#Make the validation report based on the resource url, schema url and validation url\n",
    "def make_validata_report(rurl, schema_url, validata_base_url=validata_base_url) :\n",
    "    r = requests.get(validata_base_url.format(schema_url=schema_url, rurl=rurl))\n",
    "    time.sleep(0.5)\n",
    "    return r.json()"
   ],
   "outputs": [],
   "metadata": {}
  },
  {
   "cell_type": "code",
   "execution_count": 99,
   "source": [
    "#Returns if a resource is valid or not regarding a schema (version)\n",
    "def is_validata_valid(rurl, schema_url, validata_base_url=validata_base_url) :\n",
    "    try :\n",
    "        report = make_validata_report(rurl, schema_url, validata_base_url=validata_base_url)\n",
    "        try :\n",
    "            res = report['report']['valid']\n",
    "        except:\n",
    "            print('{} ---- 🔴 No info in validata report for resource: {}'.format(datetime.today(), rurl))\n",
    "            res = False\n",
    "            report = None\n",
    "    except JSONDecodeError :\n",
    "        print('{} ---- 🔴 Could not make JSON from validata report for resource: {}'.format(datetime.today(), rurl))\n",
    "        res = False\n",
    "        report = None\n",
    "    return res, report"
   ],
   "outputs": [],
   "metadata": {}
  },
  {
   "cell_type": "code",
   "execution_count": 100,
   "source": [
    "def save_validata_report(res, report, version, schema_name, dataset_id, resource_id):\n",
    "    save_report = {}\n",
    "    save_report['validation-report:schema_name'] = schema_name\n",
    "    save_report['validation-report:schema_version'] = version\n",
    "    save_report['validation-report:schema_type'] = 'tableschema'\n",
    "    save_report['validation-report:validator'] = 'validata'\n",
    "    save_report['validation-report:valid_resource'] = res\n",
    "    try:\n",
    "        nb_errors = report['report']['stats']['errors'] if report['report']['stats']['errors'] < 100 else 100\n",
    "    except:\n",
    "        nb_errors = None\n",
    "    save_report['validation-report:nb_errors'] = nb_errors\n",
    "    try:\n",
    "        keys = 'cells'\n",
    "        errors = [ { y: x[y]  for y in x if y not in keys } for x in report['report']['tasks'][0]['errors'][:100]]\n",
    "\n",
    "    except:\n",
    "        errors = None\n",
    "    save_report['validation-report:errors'] = errors\n",
    "    save_report['validation-report:validation_date'] = str(datetime.now())\n",
    "    with open(str(validata_reports_path) + '/' + dataset_id + '_'+resource_id + '_' + version + '.json', 'w') as f:\n",
    "        json.dump(save_report, f)\n",
    "    \n"
   ],
   "outputs": [],
   "metadata": {}
  },
  {
   "cell_type": "code",
   "execution_count": 101,
   "source": [
    "#Returns if a resource is valid based on its \"ref_table\" row\n",
    "def is_validata_valid_row(row, schema_url, version, schema_name) :\n",
    "    if row['error_type'] is None : #if no error\n",
    "        rurl = row['resource_url']\n",
    "        res, report = is_validata_valid(rurl, schema_url)\n",
    "        if report: save_validata_report(res, report, version, schema_name, row['dataset_id'], row['resource_id'])\n",
    "        return res\n",
    "    else :\n",
    "        return False"
   ],
   "outputs": [],
   "metadata": {}
  },
  {
   "cell_type": "code",
   "execution_count": 102,
   "source": [
    "#Creates a dataset on data.gouv.fr for consolidation files (used only if does not exist yet in config file)\n",
    "def create_schema_consolidation_dataset(schema_name, schemas_catalogue_list, api_url) :\n",
    "    global HEADERS, datasets_description_template, datasets_title_template\n",
    "    \n",
    "    schema_title = get_schema_dict(schema_name, schemas_catalogue_list)['title']\n",
    "    \n",
    "    response = requests.post(api_url + 'datasets/', json={\n",
    "    'title': datasets_title_template.format(schema_title=schema_title),\n",
    "    'description': datasets_description_template.format(schema_name=schema_name),\n",
    "    'organization':'534fff75a3a7292c64a77de4',\n",
    "    'license':'lov2'\n",
    "    }, headers=HEADERS)\n",
    "    \n",
    "    return response"
   ],
   "outputs": [],
   "metadata": {}
  },
  {
   "cell_type": "code",
   "execution_count": 103,
   "source": [
    "#Generic function to update a field (key) in the config file\n",
    "def update_config_file(schema_name, key, value, config_path) :\n",
    "    with open(config_path, 'r') as f :\n",
    "        config_dict = yaml.safe_load(f)\n",
    "    \n",
    "    config_dict[schema_name][key] = value\n",
    "    \n",
    "    with open(config_path, 'w') as outfile:\n",
    "        yaml.dump(config_dict, outfile, default_flow_style=False)"
   ],
   "outputs": [],
   "metadata": {}
  },
  {
   "cell_type": "code",
   "execution_count": 104,
   "source": [
    "#Adds the resource ID of the consolidated file for a given schema version in the config file\n",
    "def update_config_version_resource_id(schema_name, version_name, r_id, config_path) :\n",
    "    with open(config_path, 'r') as f :\n",
    "        config_dict = yaml.safe_load(f)\n",
    "    \n",
    "    if 'latest_resource_ids' not in config_dict[schema_name] :\n",
    "        config_dict[schema_name]['latest_resource_ids'] = {version_name: r_id}\n",
    "    else :\n",
    "        config_dict[schema_name]['latest_resource_ids'][version_name] = r_id\n",
    "        \n",
    "    with open(config_path, 'w') as outfile:\n",
    "        yaml.dump(config_dict, outfile, default_flow_style=False)"
   ],
   "outputs": [],
   "metadata": {}
  },
  {
   "cell_type": "code",
   "execution_count": 105,
   "source": [
    "#Based on validation columns by version, adds a column to the ref_table that shows the most recent version of the schema for which the resource is valid\n",
    "def add_most_recent_valid_version(df_ref) :\n",
    "    \n",
    "    version_cols_list = [col for col in df_ref.columns if col.startswith('is_valid_v_')]\n",
    "    \n",
    "    df_ref['most_recent_valid_version'] = ''\n",
    "    \n",
    "    for col in sorted(version_cols_list, reverse=True) :\n",
    "        df_ref.loc[(df_ref['most_recent_valid_version'] == ''), 'most_recent_valid_version'] = df_ref.loc[(df_ref['most_recent_valid_version'] == ''), col].apply(lambda x : x*col.replace('is_valid_v_',''))\n",
    "    \n",
    "    df_ref.loc[(df_ref['most_recent_valid_version'] == ''), 'most_recent_valid_version'] = np.nan\n",
    "    \n",
    "    return df_ref"
   ],
   "outputs": [],
   "metadata": {}
  },
  {
   "cell_type": "code",
   "execution_count": 106,
   "source": [
    "#Gets the current metadata of schema version of a resource (based of ref_table row)\n",
    "def get_resource_schema_version(row, api_url) :\n",
    "    \n",
    "    dataset_id = row['dataset_id']\n",
    "    resource_id = row['resource_id']\n",
    "    \n",
    "    url = api_url + 'datasets/{}/resources/{}/'.format(dataset_id, resource_id)\n",
    "    r = requests.get(url)\n",
    "    if r.status_code == 200 :\n",
    "        r_json = r.json()\n",
    "        if 'schema' in r_json.keys() :\n",
    "            if 'version' in r_json['schema'].keys() :\n",
    "                return r_json['schema']['version']\n",
    "            else :\n",
    "                return np.nan\n",
    "        else :\n",
    "            return np.nan\n",
    "    else :\n",
    "        return np.nan\n",
    "\n",
    "#Returns if resource schema (version) metadata should be updated or not based on what we know about the resource\n",
    "def is_schema_version_to_update(row) :\n",
    "    initial_version_name = row['initial_version_name']\n",
    "    most_recent_valid_version = row['most_recent_valid_version']\n",
    "    resource_found_by = row['resource_found_by']\n",
    "    \n",
    "    return (resource_found_by == '1 - schema request') and (most_recent_valid_version == most_recent_valid_version) and (initial_version_name != most_recent_valid_version)\n",
    "\n",
    "#Returns if resource schema (version) metadata should be added or not based on what we know about the resource\n",
    "def is_schema_to_add(row) :\n",
    "    resource_found_by = row['resource_found_by']\n",
    "    is_valid_one_version = row['is_valid_one_version']\n",
    "    \n",
    "    return (resource_found_by != '1 - schema request') and is_valid_one_version\n",
    "\n",
    "#Returns if resource schema (version) metadata should be deleted or not based on what we know about the resource\n",
    "def is_schema_to_drop(row) :\n",
    "    resource_found_by = row['resource_found_by']\n",
    "    is_valid_one_version = row['is_valid_one_version']\n",
    "    \n",
    "    return (resource_found_by == '1 - schema request') and (is_valid_one_version == False)"
   ],
   "outputs": [],
   "metadata": {}
  },
  {
   "cell_type": "code",
   "execution_count": 107,
   "source": [
    "#Function that adds a schema (version) metadata on a resource\n",
    "def add_resource_schema(api_url, dataset_id, resource_id, schema_name, version_name) :\n",
    "    \n",
    "    global HEADERS\n",
    "    \n",
    "    schema = {\n",
    "        \"name\": schema_name,\n",
    "        \"version\": version_name\n",
    "    }\n",
    "    \n",
    "    try :\n",
    "        url = api_url + 'datasets/{}/resources/{}/'.format(dataset_id, resource_id)\n",
    "        r = requests.get(url, headers=HEADERS)\n",
    "        extras = r.json()['extras']\n",
    "    except :\n",
    "        extras = {}\n",
    "    \n",
    "    extras['consolidation_schema:add_schema'] = schema_name\n",
    "    \n",
    "    obj = {'schema': schema, 'extras': extras}\n",
    "                \n",
    "    url = api_url + 'datasets/{}/resources/{}/'.format(dataset_id, resource_id)\n",
    "    response = requests.put(url, json=obj, headers=HEADERS)\n",
    "    \n",
    "    if response.status_code != 200 :\n",
    "        print('🔴 Schema could not be added on resource. Dataset ID: {} - Resource ID: {}'.format(dataset_id, resource_id))\n",
    "        \n",
    "    return response.status_code == 200"
   ],
   "outputs": [],
   "metadata": {}
  },
  {
   "cell_type": "code",
   "execution_count": 108,
   "source": [
    "#Function that updates a schema (version) metadata on a resource\n",
    "def update_resource_schema(api_url, dataset_id, resource_id, schema_name, version_name) :\n",
    "    \n",
    "    global HEADERS\n",
    "    \n",
    "    schema = {\n",
    "        \"name\": schema_name,\n",
    "        \"version\": version_name\n",
    "    }\n",
    "    \n",
    "    try :\n",
    "        url = api_url + 'datasets/{}/resources/{}/'.format(dataset_id, resource_id)\n",
    "        r = requests.get(url, headers=HEADERS)\n",
    "        extras = r.json()['extras']\n",
    "    except :\n",
    "        extras = {}\n",
    "    \n",
    "    extras['consolidation_schema:update_schema'] = schema_name\n",
    "    \n",
    "    obj = {'schema': schema, 'extras': extras}\n",
    "                \n",
    "    url = api_url + 'datasets/{}/resources/{}/'.format(dataset_id, resource_id)\n",
    "    response = requests.put(url, json=obj, headers=HEADERS)\n",
    "    \n",
    "    if response.status_code != 200 :\n",
    "        print('🔴 Resource schema could not be updated. Dataset ID: {} - Resource ID: {}'.format(dataset_id, resource_id))\n",
    "        \n",
    "    return response.status_code == 200"
   ],
   "outputs": [],
   "metadata": {}
  },
  {
   "cell_type": "code",
   "execution_count": 109,
   "source": [
    "#Function that deletes a schema (version) metadata on a resource\n",
    "def delete_resource_schema(api_url, dataset_id, resource_id, initial_schema_name) :\n",
    "    \n",
    "    global HEADERS\n",
    "    \n",
    "    schema = {}\n",
    "    \n",
    "    try :\n",
    "        url = api_url + 'datasets/{}/resources/{}/'.format(dataset_id, resource_id)\n",
    "        r = requests.get(url, headers=HEADERS)\n",
    "        extras = r.json()['extras']\n",
    "    except :\n",
    "        extras = {}\n",
    "    \n",
    "    extras['consolidation_schema:remove_schema'] = schema_name\n",
    "    \n",
    "    obj = {'schema': schema, 'extras': extras}\n",
    "                \n",
    "    url = api_url + 'datasets/{}/resources/{}/'.format(dataset_id, resource_id)\n",
    "    response = requests.put(url, json=obj, headers=HEADERS)\n",
    "    \n",
    "    if response.status_code != 200 :\n",
    "        print('🔴 Resource schema could not be deleted. Dataset ID: {} - Resource ID: {}'.format(dataset_id, resource_id))\n",
    "    \n",
    "    return response.status_code == 200"
   ],
   "outputs": [],
   "metadata": {}
  },
  {
   "cell_type": "code",
   "execution_count": 110,
   "source": [
    "#Get the (list of) e-mail address(es) of the owner or of the admin(s) of the owner organization of a dataset\n",
    "def get_owner_or_admin_mails(dataset_id, api_url) :\n",
    "    r = requests.get(api_url + 'datasets/{}/'.format(dataset_id))\n",
    "    r_dict = r.json()\n",
    "    \n",
    "    if r_dict['organization'] is not None :\n",
    "        org_id = r_dict['organization']['id']\n",
    "    else :\n",
    "        org_id = None\n",
    "    \n",
    "    if r_dict['owner'] is not None :\n",
    "        owner_id = r_dict['owner']['id']\n",
    "    else :\n",
    "        owner_id = None\n",
    "    \n",
    "    mails_type = None\n",
    "    mails_list = []\n",
    "    \n",
    "    if org_id is not None :\n",
    "        mails_type = 'organisation_admins'\n",
    "        r_org = requests.get(api_url + 'organizations/{}/'.format(org_id))\n",
    "        members_list = r_org.json()['members']\n",
    "        for member in members_list :\n",
    "            if member['role'] == 'admin' :\n",
    "                user_id = member['user']['id']\n",
    "                r_user = requests.get(api_url + 'users/{}/'.format(user_id), headers=HEADER)\n",
    "                user_mail = r_user.json()['email']\n",
    "                mails_list += [user_mail]\n",
    "                \n",
    "    else :\n",
    "        if owner_id is not None :\n",
    "            mails_type = 'owner'\n",
    "            r_user = requests.get(api_url + 'users/{}/'.format(owner_id), headers=HEADER)\n",
    "            user_mail = r_user.json()['email']\n",
    "            mails_list += [user_mail]\n",
    "    \n",
    "    return (mails_type, mails_list)"
   ],
   "outputs": [],
   "metadata": {}
  },
  {
   "cell_type": "code",
   "execution_count": 111,
   "source": [
    "#Function to send a e-mail\n",
    "def send_email(subject, message, mail_from, mail_to, smtp_host, smtp_user, smtp_password):\n",
    "    message = emails.html(html='<p>%s</p>' % message,\n",
    "                        subject=subject,\n",
    "                        mail_from=mail_from)\n",
    "    smtp = {\n",
    "        'host': smtp_host,\n",
    "        'port': 587,\n",
    "        'tls': True,\n",
    "        'user': smtp_user,\n",
    "        'password': smtp_password,\n",
    "    }\n",
    "\n",
    "    _ = message.send(to=mail_to, smtp=smtp)\n",
    "    \n",
    "    return _"
   ],
   "outputs": [],
   "metadata": {}
  },
  {
   "cell_type": "code",
   "execution_count": 112,
   "source": [
    "#Function to post a comment on a dataset\n",
    "def post_comment_on_dataset(dataset_id, title, comment, api_url) :\n",
    "    \n",
    "    global HEADER\n",
    "    \n",
    "    post_object = {\n",
    "        'title':title,\n",
    "        'comment' : comment,\n",
    "        'subject': {'class': 'Dataset', 'id': dataset_id}\n",
    "    }\n",
    "    \n",
    "    _ = requests.post(api_url + 'discussions/', json=post_object, headers=HEADER)\n",
    "    \n",
    "    return _"
   ],
   "outputs": [],
   "metadata": {}
  },
  {
   "cell_type": "code",
   "execution_count": 113,
   "source": [
    "def add_validation_extras(dataset_id, resource_id, validation_report_path):\n",
    "    if os.path.isfile(validata_report_path) :\n",
    "\n",
    "        with open(validation_report_path) as out:\n",
    "            validation_report = json.load(out)\n",
    "\n",
    "        global HEADERS\n",
    "        \n",
    "        try :\n",
    "            url = api_url + 'datasets/{}/resources/{}/'.format(dataset_id, resource_id)\n",
    "            r = requests.get(url, headers=HEADERS)\n",
    "            extras = r.json()['extras']\n",
    "        except :\n",
    "            extras = {}\n",
    "\n",
    "        extras = {**extras, **validation_report}\n",
    "        \n",
    "        obj = {'extras': extras}\n",
    "                    \n",
    "        url = api_url + 'datasets/{}/resources/{}/'.format(dataset_id, resource_id)\n",
    "        response = requests.put(url, json=obj, headers=HEADERS)\n",
    "        \n",
    "        if response.status_code != 200 :\n",
    "            print('🔴 Schema could not be added on resource. Dataset ID: {} - Resource ID: {}'.format(dataset_id, resource_id))\n",
    "            \n",
    "        return response.status_code == 200"
   ],
   "outputs": [],
   "metadata": {}
  },
  {
   "cell_type": "markdown",
   "source": [
    "# Main code"
   ],
   "metadata": {}
  },
  {
   "cell_type": "markdown",
   "source": [
    "## Utils"
   ],
   "metadata": {}
  },
  {
   "cell_type": "code",
   "execution_count": 114,
   "source": [
    "consolidation_date_str = datetime.now().strftime('%Y%m%d')\n",
    "print(consolidation_date_str)"
   ],
   "outputs": [
    {
     "output_type": "stream",
     "name": "stdout",
     "text": [
      "20220218\n"
     ]
    }
   ],
   "metadata": {}
  },
  {
   "cell_type": "code",
   "execution_count": 115,
   "source": [
    "data_path = tmp_path / 'data'\n",
    "data_path.mkdir(parents=True, exist_ok=True)"
   ],
   "outputs": [],
   "metadata": {}
  },
  {
   "cell_type": "code",
   "execution_count": 116,
   "source": [
    "consolidated_data_path = tmp_path / 'consolidated_data'\n",
    "consolidated_data_path.mkdir(parents=True, exist_ok=True)"
   ],
   "outputs": [],
   "metadata": {}
  },
  {
   "cell_type": "code",
   "execution_count": 117,
   "source": [
    "ref_tables_path = tmp_path / 'ref_tables'\n",
    "ref_tables_path.mkdir(parents=True, exist_ok=True)"
   ],
   "outputs": [],
   "metadata": {}
  },
  {
   "cell_type": "code",
   "execution_count": 118,
   "source": [
    "report_tables_path = tmp_path / 'report_tables'\n",
    "report_tables_path.mkdir(parents=True, exist_ok=True)"
   ],
   "outputs": [],
   "metadata": {}
  },
  {
   "cell_type": "code",
   "execution_count": 119,
   "source": [
    "validata_reports_path = tmp_path / 'validata_reports'\n",
    "validata_reports_path.mkdir(parents=True, exist_ok=True)"
   ],
   "outputs": [],
   "metadata": {}
  },
  {
   "cell_type": "code",
   "execution_count": 120,
   "source": [
    "output_path = tmp_path / 'output'\n",
    "output_path.mkdir(parents=True, exist_ok=True)"
   ],
   "outputs": [],
   "metadata": {}
  },
  {
   "cell_type": "markdown",
   "source": [
    "## Loading schemas documentation and config"
   ],
   "metadata": {}
  },
  {
   "cell_type": "markdown",
   "source": [
    "### Schemas documentation"
   ],
   "metadata": {}
  },
  {
   "cell_type": "markdown",
   "source": [
    "We keep **only table schemas**."
   ],
   "metadata": {}
  },
  {
   "cell_type": "code",
   "execution_count": 121,
   "source": [
    "# Getting schemas list :\n",
    "\n",
    "#Keeping track of schema info\n",
    "schemas_report_dict = {}\n",
    "\n",
    "schemas_catalogue_dict = requests.get(schemas_list_url).json()\n",
    "print('Schema catalogue URL: {}'.format(schemas_catalogue_dict['$schema']))\n",
    "print('Version: {}'.format(schemas_catalogue_dict['version']))\n",
    "\n",
    "schemas_catalogue_list = [schema for schema in schemas_catalogue_dict['schemas'] if schema['schema_type'] == 'tableschema']\n",
    "nb_schemas = len(schemas_catalogue_list)\n",
    "print('Total number of schemas: {}'.format(nb_schemas))\n",
    "\n",
    "for schema in schemas_catalogue_list :\n",
    "    print('- {} ({} versions)'.format(schema['name'], len(schema['versions'])))\n",
    "    schemas_report_dict[schema['name']] = {'nb_versions':len(schema['versions'])}"
   ],
   "outputs": [
    {
     "output_type": "stream",
     "name": "stdout",
     "text": [
      "Schema catalogue URL: https://opendataschema.frama.io/catalog/schema-catalog.json\n",
      "Version: 1\n",
      "Total number of schemas: 2\n",
      "- etalab/schema-lieux-covoiturage (8 versions)\n",
      "- NaturalSolutions/schema-arbre (4 versions)\n"
     ]
    }
   ],
   "metadata": {}
  },
  {
   "cell_type": "markdown",
   "source": [
    "### Creating/updating config file with missing schemas"
   ],
   "metadata": {}
  },
  {
   "cell_type": "code",
   "execution_count": 122,
   "source": [
    "if os.path.exists(config_path) :\n",
    "    with open(config_path, 'r') as f :\n",
    "        config_dict = yaml.safe_load(f)\n",
    "else :\n",
    "    config_dict = {}\n",
    "    \n",
    "for schema in schemas_catalogue_list :\n",
    "    if schema['name'] not in config_dict.keys() :\n",
    "        add_schema_default_config(schema['name'], config_path)\n",
    "        schemas_report_dict[schema['name']]['new_config_created'] = True\n",
    "        print('{} - ➕ Schema {} added to config file.'.format(datetime.today(), schema['name']))\n",
    "    else :\n",
    "        schemas_report_dict[schema['name']]['new_config_created'] = False\n",
    "        print('{} - 🆗 Schema {} already in config file.'.format(datetime.today(), schema['name']))"
   ],
   "outputs": [
    {
     "output_type": "stream",
     "name": "stdout",
     "text": [
      "2022-02-18 15:55:20.103361 - 🆗 Schema etalab/schema-lieux-covoiturage already in config file.\n",
      "2022-02-18 15:55:20.103471 - 🆗 Schema NaturalSolutions/schema-arbre already in config file.\n"
     ]
    }
   ],
   "metadata": {}
  },
  {
   "cell_type": "markdown",
   "source": [
    "**⚠️⚠️⚠️ EDIT CONFIG FILE IF NEEDED (especially for new schemas) ⚠️⚠️⚠️**\n",
    "\n",
    "Then, reload config file:"
   ],
   "metadata": {}
  },
  {
   "cell_type": "code",
   "execution_count": 123,
   "source": [
    "with open(config_path, 'r') as f :\n",
    "    config_dict = yaml.safe_load(f)"
   ],
   "outputs": [],
   "metadata": {}
  },
  {
   "cell_type": "markdown",
   "source": [
    "## Building reference tables (parsing and listing resources + Validata check)"
   ],
   "metadata": {}
  },
  {
   "cell_type": "code",
   "execution_count": 124,
   "source": [
    "%%time\n",
    "for schema_name in config_dict.keys() :\n",
    "    \n",
    "    print('{} - ℹ️ STARTING SCHEMA: {}'.format(datetime.now(), schema_name))\n",
    "    \n",
    "    #NEEDED PARAMETERS\n",
    "    \n",
    "    #Schema description and consolidation configuration    \n",
    "    schema_config = config_dict[schema_name]\n",
    "    \n",
    "    if schema_config['consolidate'] == True :\n",
    "    \n",
    "        #Schema official specification (in catalogue)\n",
    "        schema_dict = get_schema_dict(schema_name, schemas_catalogue_list)\n",
    "\n",
    "        #Datasets to exclude (from config)\n",
    "        datasets_to_exclude = []\n",
    "        if 'consolidated_dataset_id' in schema_config.keys() :\n",
    "            datasets_to_exclude += [schema_config['consolidated_dataset_id']]\n",
    "        if 'exclude_dataset_ids' in schema_config.keys() :\n",
    "            if type(schema_config['exclude_dataset_ids']) == list :\n",
    "                datasets_to_exclude += schema_config['exclude_dataset_ids']\n",
    "\n",
    "        #Tags and search words to use to get resources that could match schema (from config)\n",
    "        tags_list = []\n",
    "        if 'tags' in schema_config.keys() :\n",
    "            tags_list += schema_config['tags']\n",
    "\n",
    "        search_words_list = []\n",
    "        if 'search_words' in schema_config.keys() :\n",
    "            search_words_list = schema_config['search_words']\n",
    "\n",
    "        #Schema versions not to consolidate\n",
    "        drop_versions = []\n",
    "        if 'drop_versions' in schema_config.keys() :\n",
    "            drop_versions += schema_config['drop_versions']\n",
    "        \n",
    "        schemas_report_dict[schema_name]['nb_versions_to_drop_in_config'] = len(drop_versions)\n",
    "\n",
    "        #PARSING API TO GET ALL ELIGIBLE RESOURCES FOR CONSOLIDATION\n",
    "\n",
    "        df_list = []\n",
    "\n",
    "        #Listing resources by schema request\n",
    "        df_schema = parse_api(schema_url_base.format(schema_name=schema_name))\n",
    "        schemas_report_dict[schema_name]['nb_resources_found_by_schema'] = len(df_schema)\n",
    "        if len(df_schema) > 0 :\n",
    "            df_schema['resource_found_by'] = '1 - schema request'\n",
    "            df_schema['initial_version_name'] = df_schema.apply(lambda row : get_resource_schema_version(row, api_url), axis=1)\n",
    "            df_list += [df_schema]\n",
    "\n",
    "        #Listing resources by tag requests\n",
    "        schemas_report_dict[schema_name]['nb_resources_found_by_tags'] = 0\n",
    "        for tag in tags_list : \n",
    "            df_tag = parse_api(tag_url_base.format(tag=tag))\n",
    "            schemas_report_dict[schema_name]['nb_resources_found_by_tags'] += len(df_tag)\n",
    "            if len(df_tag) > 0 :\n",
    "                df_tag['resource_found_by'] = '2 - tag request'\n",
    "                df_list += [df_tag]\n",
    "\n",
    "        #Listing resources by search (keywords) requests\n",
    "        schemas_report_dict[schema_name]['nb_resources_found_by_search_words'] = 0\n",
    "        for search_word in search_words_list :\n",
    "            df_search_word = parse_api(search_url_base.format(search_word=search_word))\n",
    "            schemas_report_dict[schema_name]['nb_resources_found_by_search_words'] += len(df_search_word)\n",
    "            if len(df_search_word) > 0 :\n",
    "                df_search_word['resource_found_by'] = '3 - search request'\n",
    "                df_list += [df_search_word]\n",
    "\n",
    "        if len(df_list) > 0 :\n",
    "            df = pd.concat(df_list, ignore_index=True)\n",
    "            df = df[~(df['dataset_id'].isin(datasets_to_exclude))]\n",
    "            df = df.sort_values('resource_found_by')\n",
    "            df = df.drop_duplicates(subset=['resource_id'], keep='first')\n",
    "            \n",
    "            print('{} -- 🔢 {} resource(s) found for this schema.'.format(datetime.now(), len(df)))\n",
    "            \n",
    "            if 'initial_version_name' not in df.columns : # in case there is no resource found by schema request\n",
    "                df['initial_version_name'] = np.nan\n",
    "\n",
    "            #FOR EACH RESOURCE AND SCHEMA VERSION, CHECK IF RESOURCE MATCHES THE SCHEMA VERSION\n",
    "\n",
    "            #Apply validata check for each version that is not explicitly dropped in config file\n",
    "            version_names_list = []\n",
    "            \n",
    "            for version in schema_dict['versions'] :\n",
    "                version_name = version['version_name']\n",
    "                if version_name not in drop_versions :\n",
    "                    schema_url = version['schema_url']\n",
    "                    df['is_valid_v_{}'.format(version_name)] = df.apply(lambda row : is_validata_valid_row(row, schema_url, version_name, schema_name), axis=1)\n",
    "                    version_names_list += [version_name]\n",
    "                    print('{} --- ☑️ Validata check done for version {}'.format(datetime.now(), version_name))\n",
    "                else :\n",
    "                    print('{} --- ❌ Version {} to drop according to config file'.format(datetime.now(), version_name))\n",
    "            \n",
    "            if len(version_names_list) > 0 :\n",
    "                #Check if resources are at least matching one schema version (only those matching will be downloaded in next step)\n",
    "                df['is_valid_one_version'] = sum([df['is_valid_v_{}'.format(version_name)] for version_name in version_names_list]) > 0\n",
    "                schemas_report_dict[schema_name]['nb_valid_resources'] = df['is_valid_one_version'].sum()\n",
    "                df = add_most_recent_valid_version(df)\n",
    "                df.to_csv(os.path.join(ref_tables_path, 'ref_table_{}.csv'.format(schema_name.replace('/', '_'))), index=False)\n",
    "                print('{} -- ✅ Validata check done for {}.'.format(datetime.now(), schema_name))\n",
    "            else :\n",
    "                schemas_report_dict[schema_name]['nb_valid_resources'] = 0\n",
    "                print('{} -- ❌ All possible versions for this schema were dropped by config file.'.format(datetime.now()))\n",
    "\n",
    "        else :\n",
    "            print('{} -- ⚠️ No resource found for this schema.'.format(datetime.now(), schema_name))\n",
    "            \n",
    "    else :\n",
    "        print('{} -- ❌ Schema not to consolidate according to config file.'.format(datetime.now()))"
   ],
   "outputs": [
    {
     "output_type": "stream",
     "name": "stdout",
     "text": [
      "2022-02-18 15:55:20.769294 - ℹ️ STARTING SCHEMA: NaturalSolutions/schema-arbre\n",
      "2022-02-18 15:55:20.889225 -- ⚠️ No resource found for this schema.\n",
      "2022-02-18 15:55:20.889357 - ℹ️ STARTING SCHEMA: etalab/schema-lieux-covoiturage\n",
      "2022-02-18 15:55:21.254242 -- 🔢 4 resource(s) found for this schema.\n",
      "2022-02-18 15:55:25.106483 --- ☑️ Validata check done for version 0.0.1\n",
      "2022-02-18 15:55:28.518031 --- ☑️ Validata check done for version 0.1.0\n",
      "2022-02-18 15:55:31.896324 --- ☑️ Validata check done for version 0.1.1\n",
      "2022-02-18 15:55:35.373706 --- ☑️ Validata check done for version 0.1.2\n",
      "2022-02-18 15:55:39.111804 --- ☑️ Validata check done for version 0.2.0\n",
      "2022-02-18 15:55:42.879260 --- ☑️ Validata check done for version 0.2.1\n",
      "2022-02-18 15:55:46.638876 --- ☑️ Validata check done for version 0.2.2\n",
      "2022-02-18 15:55:50.391242 --- ☑️ Validata check done for version 0.2.3\n",
      "2022-02-18 15:55:50.413884 -- ✅ Validata check done for etalab/schema-lieux-covoiturage.\n",
      "CPU times: user 948 ms, sys: 104 ms, total: 1.05 s\n",
      "Wall time: 29.6 s\n"
     ]
    }
   ],
   "metadata": {}
  },
  {
   "cell_type": "markdown",
   "source": [
    "## Downloading valid data"
   ],
   "metadata": {}
  },
  {
   "cell_type": "markdown",
   "source": [
    "We download only data that is valid for at least one version of the schema."
   ],
   "metadata": {}
  },
  {
   "cell_type": "code",
   "execution_count": 125,
   "source": [
    "%%time\n",
    "for schema_name in config_dict.keys() :\n",
    "    \n",
    "    print('{} - ℹ️ STARTING SCHEMA: {}'.format(datetime.now(), schema_name))\n",
    "    \n",
    "    ref_table_path = os.path.join(ref_tables_path, 'ref_table_{}.csv'.format(schema_name.replace('/', '_')))\n",
    "    \n",
    "    if os.path.exists(ref_table_path) :\n",
    "        df_ref = pd.read_csv(ref_table_path)\n",
    "        df_ref['is_downloaded'] = False\n",
    "        \n",
    "        if len(df_ref[df_ref['is_valid_one_version'] == True]) > 0 :\n",
    "        \n",
    "            schema_data_path = Path(data_path) / schema_name.replace('/','_')\n",
    "            schema_data_path.mkdir(exist_ok=True)\n",
    "\n",
    "            for index,row in df_ref[df_ref['is_valid_one_version'] == True].iterrows():\n",
    "                rurl = row['resource_url']\n",
    "                r = requests.get(rurl, allow_redirects=True)\n",
    "                \n",
    "                if r.status_code == 200 :\n",
    "                    p = Path(schema_data_path) / row['dataset_slug']\n",
    "                    p.mkdir(exist_ok=True)\n",
    "                    written_filename = '{}.csv'.format(row['resource_id'])\n",
    "\n",
    "                    with open('{}/{}'.format(p, written_filename), 'wb') as f:\n",
    "                        f.write(r.content)\n",
    "                    \n",
    "                    df_ref.loc[(df_ref['resource_id'] == row['resource_id']), 'is_downloaded'] = True\n",
    "                    \n",
    "                    print('{} --- ⬇️✅ downloaded file [{}] {}'.format(datetime.now(), row['resource_title'], rurl))\n",
    "                else :\n",
    "                    print('{} --- ⬇️❌ File could not be downloaded: [{}] {}'.format(datetime.now(), row['resource_title'], rurl))\n",
    "                    \n",
    "        else :\n",
    "            print('{} -- ⚠️ No valid resource for this schema'.format(datetime.now()))\n",
    "            \n",
    "        df_ref.to_csv(ref_table_path, index=False)\n",
    "    \n",
    "    else :\n",
    "        print('{} -- ❌ No reference table made for this schema (schema not to consolidate, no version to consolidate or no resource found).'.format(datetime.now()))"
   ],
   "outputs": [
    {
     "output_type": "stream",
     "name": "stdout",
     "text": [
      "2022-02-18 15:55:50.439325 - ℹ️ STARTING SCHEMA: NaturalSolutions/schema-arbre\n",
      "2022-02-18 15:55:50.439786 -- ❌ No reference table made for this schema (schema not to consolidate, no version to consolidate or no resource found).\n",
      "2022-02-18 15:55:50.439820 - ℹ️ STARTING SCHEMA: etalab/schema-lieux-covoiturage\n",
      "2022-02-18 15:55:50.485844 --- ⬇️✅ downloaded file [bnlc.csv] https://raw.githubusercontent.com/etalab/transport-base-nationale-covoiturage/main/bnlc-.csv\n",
      "2022-02-18 15:55:50.536462 --- ⬇️✅ downloaded file [n_lieux_covoit_p_035] https://static.data.gouv.fr/resources/lieux-de-covoiturage-departement-dille-et-vilaine/20210722-131413/data.csv\n",
      "CPU times: user 37.9 ms, sys: 6.3 ms, total: 44.2 ms\n",
      "Wall time: 98.2 ms\n"
     ]
    }
   ],
   "metadata": {}
  },
  {
   "cell_type": "markdown",
   "source": [
    "## Consolidation"
   ],
   "metadata": {}
  },
  {
   "cell_type": "code",
   "execution_count": 126,
   "source": [
    "%%time\n",
    "for schema_name in config_dict.keys() :\n",
    "    \n",
    "    print('{} - ℹ️ STARTING SCHEMA: {}'.format(datetime.now(), schema_name))\n",
    "    \n",
    "    schema_data_path = Path(data_path) / schema_name.replace('/','_')\n",
    "    \n",
    "    if os.path.exists(schema_data_path) :\n",
    "        \n",
    "        schema_consolidated_data_path = Path(consolidated_data_path) / schema_name.replace('/','_')\n",
    "        schema_consolidated_data_path.mkdir(exist_ok=True)\n",
    "        \n",
    "        ref_table_path = os.path.join(ref_tables_path, 'ref_table_{}.csv'.format(schema_name.replace('/', '_')))\n",
    "        df_ref = pd.read_csv(ref_table_path) #(This file necessarily exists if data folder exists)\n",
    "        \n",
    "        #We will test if downloaded files are empty or not (so we set default values)\n",
    "        df_ref['is_empty'] = np.nan\n",
    "        df_ref.loc[(df_ref['is_downloaded'] == True), 'is_empty'] = False\n",
    "        \n",
    "        schema_dict = get_schema_dict(schema_name, schemas_catalogue_list)\n",
    "        \n",
    "        version_names_list = [col.replace('is_valid_v_','') for col in df_ref.columns if col.startswith('is_valid_v_')]\n",
    "        \n",
    "        for version in schema_dict['versions'] :\n",
    "            version_name = version['version_name']\n",
    "            if version_name in version_names_list :\n",
    "                df_ref_v = df_ref[(df_ref['is_valid_v_'+version_name] == True) & (df_ref['is_downloaded'] == True)]\n",
    "                \n",
    "                if len(df_ref_v) > 0 :\n",
    "                    #Get schema version parameters for ddup\n",
    "                    version_dict = requests.get(version['schema_url']).json()\n",
    "                    version_cols_list = [field_dict['name'] for field_dict in version_dict['fields']]\n",
    "                    \n",
    "                    if 'primaryKey' in version_dict.keys() :\n",
    "                        primary_key = version_dict['primaryKey']\n",
    "                    else :\n",
    "                        primary_key = None\n",
    "                        \n",
    "                    df_r_list = []\n",
    "                    \n",
    "                    for index,row in df_ref_v.iterrows():\n",
    "                        file_path = os.path.join(schema_data_path, row['dataset_slug'], '{}.csv'.format(row['resource_id']))\n",
    "                        with open(file_path,'rb') as f:\n",
    "                            encoding = chardet.detect(f.read()).get('encoding')\n",
    "                            if(encoding == 'Windows-1254'):\n",
    "                                encoding = 'iso-8859-1'\n",
    "                        \n",
    "                        df_r = pd.read_csv(file_path, sep=None, engine=\"python\", dtype='str', encoding=encoding, na_filter=False)\n",
    "                        \n",
    "                        if len(df_r) > 0 : #Keeping only non empty files\n",
    "                            #Keep only schema columns (and add empty columns for missing ones)\n",
    "                            df_r = df_r[[col for col in version_cols_list if col in df_r.columns]]\n",
    "                            for col in version_cols_list :\n",
    "                                if col not in df_r.columns :\n",
    "                                    df_r[col] = np.nan\n",
    "\n",
    "                            df_r['last_modified'] = row['resource_last_modified']\n",
    "                            df_r['datagouv_dataset_id'] = row['dataset_id']\n",
    "                            df_r['datagouv_resource_id'] = row['resource_id']\n",
    "                            df_r['datagouv_organization_or_owner'] = row['organization_or_owner']\n",
    "                            df_r_list += [df_r]\n",
    "                            \n",
    "                        else :\n",
    "                            df_ref.loc[(df_ref['resource_id'] == row['resource_id']), 'is_empty'] = True\n",
    "                    \n",
    "                    if len(df_r_list) >= MINIMUM_VALID_RESOURCES_TO_CONSOLIDATE :\n",
    "                        df_conso = pd.concat(df_r_list, ignore_index=True)\n",
    "\n",
    "                        #Sorting by most recent (resource last modification date at the moment)\n",
    "                        df_conso = df_conso.sort_values('last_modified', ascending=False)\n",
    "\n",
    "                        #Deduplication\n",
    "                        if primary_key is not None :\n",
    "                            ddup_cols = primary_key\n",
    "                        else :\n",
    "                            ddup_cols = version_cols_list\n",
    "\n",
    "                        df_conso = df_conso.drop_duplicates(ddup_cols, keep='first').reset_index(drop=True)  \n",
    "                        \n",
    "                        #Avoid \"null\" value in CSV files\n",
    "                        df_conso = df_conso.fillna('')\n",
    "                        \n",
    "                        df_conso.to_csv(os.path.join(schema_consolidated_data_path, 'consolidation_{}_v_{}_{}.csv'.format(schema_name.replace('/','_'), version_name, consolidation_date_str)), index=False, encoding=\"utf-8\",na_rep='null')\n",
    "                        print('{} -- ✅ DONE: {} version {}'.format(datetime.today(), schema_name, version_name))\n",
    "                    \n",
    "                    else :\n",
    "                        print('{} -- ⚠️ Less than 5 (non-empty) valid resources for version {} : consolidation file is not built'.format(datetime.today(), version_name))\n",
    "                    \n",
    "                else :\n",
    "                    print('{} -- ⚠️ No valid resource for version {} of this schema'.format(datetime.today(), version_name))\n",
    "        \n",
    "        df_ref.to_csv(ref_table_path, index=False)\n",
    "    \n",
    "    else :\n",
    "        print('{} -- ❌ No data downloaded for this schema.'.format(datetime.today()))"
   ],
   "outputs": [
    {
     "output_type": "stream",
     "name": "stdout",
     "text": [
      "2022-02-18 15:55:50.563986 - ℹ️ STARTING SCHEMA: NaturalSolutions/schema-arbre\n",
      "2022-02-18 15:55:50.564437 -- ❌ No data downloaded for this schema.\n",
      "2022-02-18 15:55:50.564481 - ℹ️ STARTING SCHEMA: etalab/schema-lieux-covoiturage\n",
      "2022-02-18 15:55:50.708703 -- ⚠️ Less than 5 (non-empty) valid resources for version 0.0.1 : consolidation file is not built\n",
      "2022-02-18 15:55:50.835791 -- ⚠️ Less than 5 (non-empty) valid resources for version 0.1.0 : consolidation file is not built\n",
      "2022-02-18 15:55:50.960851 -- ⚠️ Less than 5 (non-empty) valid resources for version 0.1.1 : consolidation file is not built\n",
      "2022-02-18 15:55:51.077539 -- ⚠️ Less than 5 (non-empty) valid resources for version 0.1.2 : consolidation file is not built\n",
      "2022-02-18 15:55:55.546109 -- ✅ DONE: etalab/schema-lieux-covoiturage version 0.2.0\n",
      "2022-02-18 15:56:00.251071 -- ✅ DONE: etalab/schema-lieux-covoiturage version 0.2.1\n",
      "2022-02-18 15:56:04.684648 -- ✅ DONE: etalab/schema-lieux-covoiturage version 0.2.2\n",
      "2022-02-18 15:56:09.182769 -- ✅ DONE: etalab/schema-lieux-covoiturage version 0.2.3\n",
      "CPU times: user 18.3 s, sys: 116 ms, total: 18.4 s\n",
      "Wall time: 18.6 s\n"
     ]
    }
   ],
   "metadata": {}
  },
  {
   "cell_type": "markdown",
   "source": [
    "## Upload"
   ],
   "metadata": {}
  },
  {
   "cell_type": "code",
   "execution_count": 127,
   "source": [
    "%%time\n",
    "for schema_name in config_dict.keys() :\n",
    "    \n",
    "    with open(config_path, 'r') as f :\n",
    "        config_dict = yaml.safe_load(f)\n",
    "    \n",
    "    print('{} - ℹ️ STARTING SCHEMA: {}'.format(datetime.now(), schema_name))\n",
    "    \n",
    "    schema_consolidated_data_path = Path(consolidated_data_path) / schema_name.replace('/','_')\n",
    "    \n",
    "    if os.path.exists(schema_consolidated_data_path) :\n",
    "        #Check if dataset_id is in config. If not, create a dataset on datagouv\n",
    "        schema_config = config_dict[schema_name]\n",
    "        if(('publication' in schema_config.keys()) and schema_config['publication'] == True): \n",
    "            if 'consolidated_dataset_id' not in schema_config.keys() :\n",
    "                response = create_schema_consolidation_dataset(schema_name, schemas_catalogue_list, api_url)\n",
    "                if response.status_code == 201 :\n",
    "                    consolidated_dataset_id = response.json()['id']\n",
    "                    update_config_file(schema_name, 'consolidated_dataset_id', consolidated_dataset_id, config_path)\n",
    "                    print('{} -- 🟢 No consolidation dataset for this schema - Successfully created (id: {})'.format(datetime.today(), consolidated_dataset_id))\n",
    "                else :\n",
    "                    print('{} -- 🔴 No consolidation dataset for this schema - Failed to create one'.format(datetime.today()))\n",
    "            else :\n",
    "                consolidated_dataset_id = schema_config['consolidated_dataset_id']\n",
    "                \n",
    "            schemas_report_dict[schema_name]['consolidated_dataset_id'] = consolidated_dataset_id\n",
    "                \n",
    "            #Creating last consolidation resources\n",
    "            version_names_list = [filename.replace('consolidation_'+schema_name.replace('/','_')+'_v_', '').replace('_'+ consolidation_date_str +'.csv','') for filename in os.listdir(schema_consolidated_data_path) if not filename.startswith('.')]\n",
    "            \n",
    "            for version_name in sorted(version_names_list) :\n",
    "                with open(config_path, 'r') as f :\n",
    "                    config_dict = yaml.safe_load(f)\n",
    "            \n",
    "                schema = {\n",
    "                    \"name\": schema_name,\n",
    "                    \"version\": version_name\n",
    "                }\n",
    "                obj = {}\n",
    "                obj['schema'] = schema\n",
    "                obj['type'] = 'main'\n",
    "                obj['title'] = \"Dernière version consolidée (v{} du schéma) - {}\".format(version_name, consolidation_date_str)\n",
    "                obj['format'] = 'csv'\n",
    "                \n",
    "                file_path = os.path.join(schema_consolidated_data_path, 'consolidation_{}_v_{}_{}.csv'.format(schema_name.replace('/','_'), version_name, consolidation_date_str))\n",
    "                \n",
    "                \n",
    "                #Uploading file (creating a new resource if version was not there before)\n",
    "                try :\n",
    "                    r_id = config_dict[schema_name]['latest_resource_ids'][version_name]\n",
    "                    url = api_url + 'datasets/' + consolidated_dataset_id + '/resources/' + r_id + '/upload/'\n",
    "                    r_to_create = False\n",
    "                    expected_status_code = 200\n",
    "                    \n",
    "                except KeyError :\n",
    "                    url = api_url + 'datasets/' + consolidated_dataset_id + '/upload/'\n",
    "                    r_to_create = True\n",
    "                    expected_status_code = 201\n",
    "                \n",
    "                with open(file_path, 'rb') as file:\n",
    "                    files = {'file': (file_path.split('/')[-1], file.read())}\n",
    "                \n",
    "                response = requests.post(url, files=files, headers=HEADERS)\n",
    "\n",
    "                if response.status_code == expected_status_code :\n",
    "                    if r_to_create == True :\n",
    "                        r_id = response.json()['id']\n",
    "                        update_config_version_resource_id(schema_name, version_name, r_id, config_path)\n",
    "                        print('{} --- ➕ New latest resource ID created for {} v{} (id: {})'.format(datetime.today(), schema_name, version_name, r_id))\n",
    "                else :\n",
    "                    r_id = None\n",
    "                    print('{} --- ⚠️ Version {}: file could not be uploaded.'.format(datetime.today(), version_name))\n",
    "                    \n",
    "                    \n",
    "                if r_id is not None :\n",
    "                    r_url = api_url + 'datasets/{}/resources/{}/'.format(consolidated_dataset_id, r_id)\n",
    "                    r_response = requests.put(r_url, json=obj, headers=HEADERS)\n",
    "\n",
    "                    if r_response.status_code == 200 :\n",
    "                        if r_to_create == True :\n",
    "                            print('{} --- ✅ Version {}: Successfully created consolidated file.'.format(datetime.today(), version_name))\n",
    "                        else :\n",
    "                            print('{} --- ✅ Version {}: Successfully updated consolidated file.'.format(datetime.today(), version_name))\n",
    "                    else :\n",
    "                        print('{} --- ⚠️ Version {}: file uploaded but metadata could not be updated.'.format(datetime.today(), version_name))\n",
    "        else:\n",
    "            schemas_report_dict[schema_name]['consolidated_dataset_id'] = np.nan\n",
    "            print('{} -- ❌ No publication for this schema.'.format(datetime.today()))\n",
    "\n",
    "    else :\n",
    "        schemas_report_dict[schema_name]['consolidated_dataset_id'] = np.nan\n",
    "        print('{} -- ❌ No consolidated file for this schema.'.format(datetime.today()))\n",
    "\n",
    "#Reopening config file to update config_dict (in case it has to be reused right after)\n",
    "with open(config_path, 'r') as f :\n",
    "    config_dict = yaml.safe_load(f)"
   ],
   "outputs": [
    {
     "output_type": "stream",
     "name": "stdout",
     "text": [
      "2022-02-18 15:56:09.217154 - ℹ️ STARTING SCHEMA: NaturalSolutions/schema-arbre\n",
      "2022-02-18 15:56:09.217408 -- ❌ No consolidated file for this schema.\n",
      "2022-02-18 15:56:09.219694 - ℹ️ STARTING SCHEMA: etalab/schema-lieux-covoiturage\n",
      "2022-02-18 15:56:09.220261 -- ❌ No publication for this schema.\n",
      "CPU times: user 7.41 ms, sys: 2.47 ms, total: 9.88 ms\n",
      "Wall time: 8.48 ms\n"
     ]
    }
   ],
   "metadata": {}
  },
  {
   "cell_type": "markdown",
   "source": [
    "## Schemas (versions) feedback loop on resources"
   ],
   "metadata": {}
  },
  {
   "cell_type": "markdown",
   "source": [
    "### Adding needed infos for each resource in reference tables"
   ],
   "metadata": {}
  },
  {
   "cell_type": "code",
   "execution_count": 128,
   "source": [
    "%%time\n",
    "for schema_name in config_dict.keys() :\n",
    "    \n",
    "    ref_table_path = os.path.join(ref_tables_path, 'ref_table_{}.csv'.format(schema_name.replace('/', '_')))\n",
    "    \n",
    "    if os.path.isfile(ref_table_path) :\n",
    "        df_ref = pd.read_csv(ref_table_path)\n",
    "\n",
    "        df_ref = add_most_recent_valid_version(df_ref)\n",
    "        df_ref['is_schema_version_to_update'] = df_ref.apply(is_schema_version_to_update, axis=1)\n",
    "        df_ref['is_schema_to_add'] = df_ref.apply(is_schema_to_add, axis=1)\n",
    "        df_ref['is_schema_to_drop'] = df_ref.apply(is_schema_to_drop, axis=1)\n",
    "        \n",
    "        df_ref.to_csv(ref_table_path, index=False)\n",
    "\n",
    "        print('{} - ✅ Infos added for schema {}'.format(datetime.today(), schema_name))\n",
    "        \n",
    "    else :\n",
    "        print('{} - ❌ No reference table for schema {}'.format(datetime.today(), schema_name))"
   ],
   "outputs": [
    {
     "output_type": "stream",
     "name": "stdout",
     "text": [
      "2022-02-18 15:56:09.243422 - ❌ No reference table for schema NaturalSolutions/schema-arbre\n",
      "2022-02-18 15:56:09.269583 - ✅ Infos added for schema etalab/schema-lieux-covoiturage\n",
      "CPU times: user 25.1 ms, sys: 2.91 ms, total: 28 ms\n",
      "Wall time: 26.4 ms\n"
     ]
    }
   ],
   "metadata": {}
  },
  {
   "cell_type": "markdown",
   "source": [
    "### Updating resources schemas and sending comments/mails to notify producers"
   ],
   "metadata": {}
  },
  {
   "cell_type": "markdown",
   "source": [
    "⚠️⚠️⚠️ **TODO: UNCOMMENT MAIL SENDING AND DISCUSSION COMMENTING (+ DELETE PRINTS) FOR NOTIFICATION TO PRODUCERS.**"
   ],
   "metadata": {}
  },
  {
   "cell_type": "code",
   "execution_count": 129,
   "source": [
    "%%time\n",
    "for schema_name in config_dict.keys() :\n",
    "    \n",
    "    ref_table_path = os.path.join(ref_tables_path, 'ref_table_{}.csv'.format(schema_name.replace('/', '_')))\n",
    "    \n",
    "    if os.path.isfile(ref_table_path) :\n",
    "        df_ref = pd.read_csv(ref_table_path)\n",
    "        df_ref['resource_schema_update_success'] = np.nan\n",
    "        df_ref['producer_notification_success'] = np.nan\n",
    "\n",
    "        for idx, row in df_ref.iterrows() :\n",
    "            if row['is_schema_version_to_update'] :\n",
    "                resource_update_success = update_resource_schema(api_url, row['dataset_id'], row['resource_id'], schema_name, row['most_recent_valid_version'])\n",
    "                df_ref.loc[(df_ref['resource_id'] == row['resource_id']), 'resource_schema_update_success'] = resource_update_success\n",
    "                \n",
    "                if resource_update_success == True :\n",
    "                    title = 'Mise à jour de la version de la métadonnée schéma'\n",
    "                    comment = updated_schema_comment_template.format(resource_title = row['resource_title'],\n",
    "                                                                     schema_name = schema_name,\n",
    "                                                                     initial_version_name = row['initial_version_name'],\n",
    "                                                                     most_recent_valid_version = row['most_recent_valid_version']\n",
    "                                                                    )\n",
    "                    #comment_post = post_comment_on_dataset(dataset_id=row['dataset_id'],\n",
    "                    #                                       title=title,\n",
    "                    #                                       comment=comment,\n",
    "                    #                                       api_url=api_url\n",
    "                    #                                      )\n",
    "                    #\n",
    "                    #producer_notification_success = (comment_post.status_code == 201)\n",
    "                    \n",
    "                    #df_ref.loc[(df_ref['resource_id'] == row['resource_id']), 'producer_notification_success'] = producer_notification_success\n",
    "                    #No notification at the moment:\n",
    "                    df_ref.loc[(df_ref['resource_id'] == row['resource_id']), 'producer_notification_success'] = False\n",
    "                    \n",
    "            \n",
    "            elif row['is_schema_to_add'] :\n",
    "                resource_update_success = add_resource_schema(api_url, row['dataset_id'], row['resource_id'], schema_name, row['most_recent_valid_version'])\n",
    "                df_ref.loc[(df_ref['resource_id'] == row['resource_id']), 'resource_schema_update_success'] = resource_update_success\n",
    "                \n",
    "                if resource_update_success == True :\n",
    "                    title = 'Ajout de la métadonnée schéma'\n",
    "                    comment = added_schema_comment_template.format(resource_title = row['resource_title'],\n",
    "                                                             schema_name = schema_name,\n",
    "                                                             most_recent_valid_version = row['most_recent_valid_version']\n",
    "                                                            )\n",
    "                    #comment_post = post_comment_on_dataset(dataset_id=row['dataset_id'],\n",
    "                    #                                       title=title,\n",
    "                    #                                       comment=comment,\n",
    "                    #                                       api_url=api_url\n",
    "                    #                                      )\n",
    "                    #\n",
    "                    #producer_notification_success = (comment_post.status_code == 201)\n",
    "                    #df_ref.loc[(df_ref['resource_id'] == row['resource_id']), 'producer_notification_success'] = producer_notification_success\n",
    "                    #No notification at the moment:\n",
    "                    df_ref.loc[(df_ref['resource_id'] == row['resource_id']), 'producer_notification_success'] = False\n",
    "            \n",
    "            #Right now, we don't drop schema and do no notification\n",
    "            elif row['is_schema_to_drop'] :\n",
    "            #    resource_update_success = delete_resource_schema(api_url, row['dataset_id'], row['resource_id'], schema_name)\n",
    "            #    df_ref.loc[(df_ref['resource_id'] == row['resource_id']), 'resource_schema_update_success'] = resource_update_success\n",
    "            #    \n",
    "            #    if resource_update_success == True :\n",
    "            #        title = 'Suppression de la métadonnée schéma'\n",
    "            #        \n",
    "            #        mails_type, mails_list = get_owner_or_admin_mails(row['dataset_id'], api_url)\n",
    "            #        \n",
    "            #        if len(mails_list) > 0 : #If we found some email addresses, we send mails\n",
    "            #            \n",
    "            #            if mails_type == 'organisation_admins' :\n",
    "            #                message = deleted_schema_mail_template_org.format(organisation_name=row['organization_or_owner'],\n",
    "            #                                                                  dataset_title=row['dataset_title'],\n",
    "            #                                                                  resource_title=row['resource_title'],\n",
    "            #                                                                  schema_name=schema_name,\n",
    "            #                                                                  schema_url=get_schema_dict(schema_name, schemas_catalogue_list)['schema_url'],\n",
    "            #                                                                  resource_url=row['resource_url']\n",
    "            #                                                                 )\n",
    "            #            elif mails_type == 'owner' :\n",
    "            #                message = deleted_schema_mail_template_own.format(dataset_title=row['dataset_title'],\n",
    "            #                                                                  resource_title=row['resource_title'],\n",
    "            #                                                                  schema_name=schema_name,\n",
    "            #                                                                  schema_url=get_schema_dict(schema_name, schemas_catalogue_list)['schema_url'],\n",
    "            #                                                                  resource_url=row['resource_url']\n",
    "            #                                                                 )\n",
    "            #                \n",
    "            #            \n",
    "            #            #Sending mail\n",
    "            #            \n",
    "            #            producer_notification_success_list = []\n",
    "            #            print('- {} | {}:'.format(row['dataset_title'], row['resource_title']))\n",
    "            #            for mail_to in mails_list :\n",
    "            #                #mail_send = send_email(subject=title,\n",
    "            #                #                       message=message,\n",
    "            #                #                       mail_from=mail_from,\n",
    "            #                #                       mail_to=mail_to,\n",
    "            #                #                       smtp_host=smtp_host,\n",
    "            #                #                       smtp_user=smtp_user,\n",
    "            #                #                       smtp_password=smtp_password)\n",
    "\n",
    "            #                #producer_notification_success_list += [(mail_send.status_code == 250)]\n",
    "            #            \n",
    "            #            #producer_notification_success = any(producer_notification_success_list) # Success if at least one person receives the mail\n",
    "            #            \n",
    "            #        else : #If no mail address, we post a comment on dataset\n",
    "            #            comment = deleted_schema_comment_template.format(resource_title=row['resource_title'],\n",
    "            #                                                             schema_name=schema_name,\n",
    "            #                                                             schema_url=get_schema_dict(schema_name, schemas_catalogue_list)['schema_url'],\n",
    "            #                                                             resource_url=row['resource_url']\n",
    "            #                                                            )\n",
    "            #            \n",
    "            #            #comment_post = post_comment_on_dataset(dataset_id=row['dataset_id'],\n",
    "            #            #                                       title=title,\n",
    "            #            #                                       comment=comment,\n",
    "            #            #                                       api_url=api_url\n",
    "            #            #                                      )\n",
    "            #        \n",
    "            #            #producer_notification_success = (comment_post.status_code == 201)\n",
    "            #        \n",
    "            #        #df_ref.loc[(df_ref['resource_id'] == row['resource_id']), 'producer_notification_success'] = producer_notification_success\n",
    "            \n",
    "                #TO DROP when schema will be deleted and producer notified:\n",
    "                df_ref.loc[(df_ref['resource_id'] == row['resource_id']), 'resource_schema_update_success'] = False\n",
    "                df_ref.loc[(df_ref['resource_id'] == row['resource_id']), 'producer_notification_success'] = False\n",
    "            \n",
    "        \n",
    "        df_ref.to_csv(ref_table_path, index=False)\n",
    "\n",
    "        print('{} - ✅ Resources updated for schema {}'.format(datetime.today(), schema_name))\n",
    "        \n",
    "    else :\n",
    "        print('{} - ❌ No reference table for schema {}'.format(datetime.today(), schema_name))"
   ],
   "outputs": [
    {
     "output_type": "stream",
     "name": "stdout",
     "text": [
      "2022-02-18 15:56:09.333728 - ❌ No reference table for schema NaturalSolutions/schema-arbre\n",
      "2022-02-18 15:56:09.343425 - ✅ Resources updated for schema etalab/schema-lieux-covoiturage\n",
      "CPU times: user 8.7 ms, sys: 3.3 ms, total: 12 ms\n",
      "Wall time: 9.92 ms\n"
     ]
    }
   ],
   "metadata": {}
  },
  {
   "cell_type": "markdown",
   "source": [
    "### Add validata report to extras for each resource"
   ],
   "metadata": {}
  },
  {
   "cell_type": "code",
   "execution_count": 130,
   "source": [
    "%%time\n",
    "for schema_name in config_dict.keys() :\n",
    "    \n",
    "    ref_table_path = os.path.join(ref_tables_path, 'ref_table_{}.csv'.format(schema_name.replace('/', '_')))\n",
    "    \n",
    "    if os.path.isfile(ref_table_path) :\n",
    "        df_ref = pd.read_csv(ref_table_path)\n",
    "        df_ref['resource_schema_update_success'] = np.nan\n",
    "        df_ref['producer_notification_success'] = np.nan\n",
    "\n",
    "        for idx, row in df_ref.iterrows() :\n",
    "            validata_report_path = str(validata_reports_path) + '/' + row['dataset_id'] + '_' + row['resource_id'] + '_'\n",
    "\n",
    "            # If there is a valid version, put validata report from it\n",
    "            if(row['most_recent_valid_version'] == row['most_recent_valid_version']):\n",
    "                validata_report_path +=  row['most_recent_valid_version'] + '.json'\n",
    "            # Else, check if declarative version\n",
    "            else:\n",
    "                # If so, put validation report from it\n",
    "                if(row['initial_version_name'] == row['initial_version_name']):\n",
    "                    validata_report_path += row['initial_version_name'] + '.json'\n",
    "                # If not, put validation report from latest version\n",
    "                else:\n",
    "                   validata_report_path += max([x.replace('is_valid_v_','') for x in list(row.keys()) if 'is_valid_v_' in x]) + '.json'\n",
    "            \n",
    "            add_validation_extras(row['dataset_id'], row['resource_id'], validata_report_path)            \n"
   ],
   "outputs": [
    {
     "output_type": "stream",
     "name": "stdout",
     "text": [
      "CPU times: user 133 ms, sys: 11 ms, total: 144 ms\n",
      "Wall time: 561 ms\n"
     ]
    }
   ],
   "metadata": {}
  },
  {
   "cell_type": "markdown",
   "source": [
    "## Updating consolidation documentation resource"
   ],
   "metadata": {}
  },
  {
   "cell_type": "code",
   "execution_count": 131,
   "source": [
    "%%time\n",
    "for schema_name in config_dict.keys() :\n",
    "    \n",
    "    ref_table_path = os.path.join(ref_tables_path, 'ref_table_{}.csv'.format(schema_name.replace('/', '_')))\n",
    "    \n",
    "    with open(config_path, 'r') as f :\n",
    "        config_dict = yaml.safe_load(f)\n",
    "    \n",
    "    print('{} - ℹ️ STARTING SCHEMA: {}'.format(datetime.now(), schema_name))\n",
    "    \n",
    "    schema_config = config_dict[schema_name]\n",
    "    if(('publication' in schema_config.keys()) and schema_config['publication'] == True): \n",
    "        if os.path.isfile(ref_table_path) :\n",
    "        \n",
    "            if 'consolidated_dataset_id' in schema_config.keys() :\n",
    "                consolidated_dataset_id = schema_config['consolidated_dataset_id']\n",
    "                \n",
    "                obj = {}\n",
    "                obj['type'] = 'documentation'\n",
    "                obj['title'] = \"Documentation sur la consolidation - {}\".format(consolidation_date_str)\n",
    "\n",
    "                #Uploading documentation file (creating a new resource if version was not there before)\n",
    "                try :\n",
    "                    doc_r_id = config_dict[schema_name]['documentation_resource_id']\n",
    "                    url = api_url + 'datasets/' + consolidated_dataset_id + '/resources/' + doc_r_id + '/upload/'\n",
    "                    doc_r_to_create = False\n",
    "                    expected_status_code = 200\n",
    "\n",
    "                except KeyError :\n",
    "                    url = api_url + 'datasets/' + consolidated_dataset_id + '/upload/'\n",
    "                    doc_r_to_create = True\n",
    "                    expected_status_code = 201\n",
    "\n",
    "                with open(ref_table_path, 'rb') as file:\n",
    "                    files = {'file': (ref_table_path.split('/')[-1], file.read())}\n",
    "\n",
    "                response = requests.post(url, files=files, headers=HEADERS)\n",
    "                \n",
    "                if response.status_code == expected_status_code :\n",
    "                    if doc_r_to_create == True :\n",
    "                        doc_r_id = response.json()['id']\n",
    "                        update_config_file(schema_name, 'documentation_resource_id', doc_r_id, config_path)\n",
    "                        print('{} --- ➕ New documentation resource ID created for {} (id: {})'.format(datetime.today(), schema_name, doc_r_id))\n",
    "                else :\n",
    "                    doc_r_id = None\n",
    "                    print('{} --- ⚠️ Documentation file could not be uploaded.'.format(datetime.today()))\n",
    "\n",
    "\n",
    "                if doc_r_id is not None :\n",
    "                    doc_r_url = api_url + 'datasets/{}/resources/{}/'.format(consolidated_dataset_id, doc_r_id)\n",
    "                    doc_r_response = requests.put(doc_r_url, json=obj, headers=HEADERS)\n",
    "                    if doc_r_response.status_code == 200 :\n",
    "                        if doc_r_to_create == True :\n",
    "                            print('{} --- ✅ Successfully created documentation file.'.format(datetime.today()))\n",
    "                        else :\n",
    "                            print('{} --- ✅ Successfully updated documentation file.'.format(datetime.today()))\n",
    "                    else :\n",
    "                        print('{} --- ⚠️ Documentation file uploaded but metadata could not be updated.'.format(datetime.today()))\n",
    "            \n",
    "            else :\n",
    "                print('{} -- ❌ No consolidation dataset ID for this schema.'.format(datetime.today()))\n",
    "                \n",
    "        else :\n",
    "            print('{} -- ❌ No reference table for this schema.'.format(datetime.today()))\n",
    "    \n",
    "    else :\n",
    "        print('{} -- ❌ No publication for this schema.'.format(datetime.today()))\n",
    "\n",
    "#Reopening config file to update config_dict (in case it has to be reused right after)\n",
    "with open(config_path, 'r') as f :\n",
    "    config_dict = yaml.safe_load(f)"
   ],
   "outputs": [
    {
     "output_type": "stream",
     "name": "stdout",
     "text": [
      "2022-02-18 15:56:09.962329 - ℹ️ STARTING SCHEMA: NaturalSolutions/schema-arbre\n",
      "2022-02-18 15:56:09.962564 -- ❌ No publication for this schema.\n",
      "2022-02-18 15:56:09.964825 - ℹ️ STARTING SCHEMA: etalab/schema-lieux-covoiturage\n",
      "2022-02-18 15:56:09.965052 -- ❌ No publication for this schema.\n",
      "CPU times: user 5.63 ms, sys: 2.25 ms, total: 7.88 ms\n",
      "Wall time: 6.24 ms\n"
     ]
    }
   ],
   "metadata": {}
  },
  {
   "cell_type": "markdown",
   "source": [
    "## Consolidation Reports"
   ],
   "metadata": {}
  },
  {
   "cell_type": "markdown",
   "source": [
    "### Report by schema"
   ],
   "metadata": {}
  },
  {
   "cell_type": "code",
   "execution_count": 132,
   "source": [
    "reports_list = []\n",
    "\n",
    "for schema_name in schemas_report_dict.keys() :\n",
    "    schema_report_dict = schemas_report_dict[schema_name]\n",
    "    schema_report_dict['schema_name'] = schema_name\n",
    "    reports_list += [schema_report_dict]\n",
    "    \n",
    "reports_df = pd.DataFrame(reports_list)\n",
    "\n",
    "reports_df = reports_df[['schema_name'] + [col for col in reports_df.columns if col != 'schema_name']].rename(columns={'config_created':'new_config_created'}) #rename to drop at next launch"
   ],
   "outputs": [],
   "metadata": {}
  },
  {
   "cell_type": "code",
   "execution_count": 133,
   "source": [
    "stats_df_list = []\n",
    "for schema_name in config_dict.keys() :\n",
    "    \n",
    "    ref_table_path = os.path.join(ref_tables_path, 'ref_table_{}.csv'.format(schema_name.replace('/', '_')))\n",
    "    \n",
    "    if os.path.isfile(ref_table_path) :\n",
    "        df_ref = pd.read_csv(ref_table_path)\n",
    "        df_ref['schema_name'] = schema_name\n",
    "        df_ref['is_schema_version_updated'] = df_ref['is_schema_version_to_update'] & df_ref['resource_schema_update_success']\n",
    "        df_ref['is_schema_added'] = df_ref['is_schema_to_add'] & df_ref['resource_schema_update_success']\n",
    "        df_ref['is_schema_dropped'] = df_ref['is_schema_to_drop'] & df_ref['resource_schema_update_success']\n",
    "        df_ref['resource_schema_update_success'] = False\n",
    "        df_ref.to_csv(ref_table_path, index=False)\n",
    "        stats_df_list += [df_ref[['schema_name', 'is_schema_version_to_update', 'is_schema_to_add', 'is_schema_to_drop', 'resource_schema_update_success', 'is_schema_version_updated','is_schema_added', 'is_schema_dropped']].fillna(False).groupby('schema_name').sum().reset_index()]\n",
    "\n",
    "stats_df = pd.concat(stats_df_list).reset_index(drop=True)"
   ],
   "outputs": [],
   "metadata": {}
  },
  {
   "cell_type": "code",
   "execution_count": 134,
   "source": [
    "reports_df = reports_df.merge(stats_df, on='schema_name', how='left')"
   ],
   "outputs": [],
   "metadata": {}
  },
  {
   "cell_type": "code",
   "execution_count": 135,
   "source": [
    "reports_df.head()"
   ],
   "outputs": [
    {
     "output_type": "execute_result",
     "data": {
      "text/html": [
       "<div>\n",
       "<style scoped>\n",
       "    .dataframe tbody tr th:only-of-type {\n",
       "        vertical-align: middle;\n",
       "    }\n",
       "\n",
       "    .dataframe tbody tr th {\n",
       "        vertical-align: top;\n",
       "    }\n",
       "\n",
       "    .dataframe thead th {\n",
       "        text-align: right;\n",
       "    }\n",
       "</style>\n",
       "<table border=\"1\" class=\"dataframe\">\n",
       "  <thead>\n",
       "    <tr style=\"text-align: right;\">\n",
       "      <th></th>\n",
       "      <th>schema_name</th>\n",
       "      <th>nb_versions</th>\n",
       "      <th>new_config_created</th>\n",
       "      <th>nb_versions_to_drop_in_config</th>\n",
       "      <th>nb_resources_found_by_schema</th>\n",
       "      <th>nb_resources_found_by_tags</th>\n",
       "      <th>nb_resources_found_by_search_words</th>\n",
       "      <th>nb_valid_resources</th>\n",
       "      <th>consolidated_dataset_id</th>\n",
       "      <th>is_schema_version_to_update</th>\n",
       "      <th>is_schema_to_add</th>\n",
       "      <th>is_schema_to_drop</th>\n",
       "      <th>resource_schema_update_success</th>\n",
       "      <th>is_schema_version_updated</th>\n",
       "      <th>is_schema_added</th>\n",
       "      <th>is_schema_dropped</th>\n",
       "    </tr>\n",
       "  </thead>\n",
       "  <tbody>\n",
       "    <tr>\n",
       "      <th>0</th>\n",
       "      <td>etalab/schema-lieux-covoiturage</td>\n",
       "      <td>8</td>\n",
       "      <td>False</td>\n",
       "      <td>0</td>\n",
       "      <td>4</td>\n",
       "      <td>0</td>\n",
       "      <td>0</td>\n",
       "      <td>2.0</td>\n",
       "      <td>NaN</td>\n",
       "      <td>0.0</td>\n",
       "      <td>0.0</td>\n",
       "      <td>2.0</td>\n",
       "      <td>0.0</td>\n",
       "      <td>0.0</td>\n",
       "      <td>0.0</td>\n",
       "      <td>0.0</td>\n",
       "    </tr>\n",
       "    <tr>\n",
       "      <th>1</th>\n",
       "      <td>NaturalSolutions/schema-arbre</td>\n",
       "      <td>4</td>\n",
       "      <td>False</td>\n",
       "      <td>0</td>\n",
       "      <td>0</td>\n",
       "      <td>0</td>\n",
       "      <td>0</td>\n",
       "      <td>NaN</td>\n",
       "      <td>NaN</td>\n",
       "      <td>NaN</td>\n",
       "      <td>NaN</td>\n",
       "      <td>NaN</td>\n",
       "      <td>NaN</td>\n",
       "      <td>NaN</td>\n",
       "      <td>NaN</td>\n",
       "      <td>NaN</td>\n",
       "    </tr>\n",
       "  </tbody>\n",
       "</table>\n",
       "</div>"
      ],
      "text/plain": [
       "                       schema_name  nb_versions  new_config_created  \\\n",
       "0  etalab/schema-lieux-covoiturage            8               False   \n",
       "1    NaturalSolutions/schema-arbre            4               False   \n",
       "\n",
       "   nb_versions_to_drop_in_config  nb_resources_found_by_schema  \\\n",
       "0                              0                             4   \n",
       "1                              0                             0   \n",
       "\n",
       "   nb_resources_found_by_tags  nb_resources_found_by_search_words  \\\n",
       "0                           0                                   0   \n",
       "1                           0                                   0   \n",
       "\n",
       "   nb_valid_resources  consolidated_dataset_id  is_schema_version_to_update  \\\n",
       "0                 2.0                      NaN                          0.0   \n",
       "1                 NaN                      NaN                          NaN   \n",
       "\n",
       "   is_schema_to_add  is_schema_to_drop  resource_schema_update_success  \\\n",
       "0               0.0                2.0                             0.0   \n",
       "1               NaN                NaN                             NaN   \n",
       "\n",
       "   is_schema_version_updated  is_schema_added  is_schema_dropped  \n",
       "0                        0.0              0.0                0.0  \n",
       "1                        NaN              NaN                NaN  "
      ]
     },
     "metadata": {},
     "execution_count": 135
    }
   ],
   "metadata": {}
  },
  {
   "cell_type": "code",
   "execution_count": 136,
   "source": [
    "reports_df.to_excel(os.path.join(report_tables_path, 'report_by_schema_{}.xlsx'.format(consolidation_date_str)), index=False)\n",
    "reports_df.to_csv(os.path.join(report_tables_path, 'report_by_schema_{}.csv'.format(consolidation_date_str)), index=False)"
   ],
   "outputs": [],
   "metadata": {}
  },
  {
   "cell_type": "markdown",
   "source": [
    "## Detailed reports (by schema and resource source)"
   ],
   "metadata": {}
  },
  {
   "cell_type": "code",
   "execution_count": 137,
   "source": [
    "%%time\n",
    "for schema_name in config_dict.keys() :\n",
    "    \n",
    "    ref_table_path = os.path.join(ref_tables_path, 'ref_table_{}.csv'.format(schema_name.replace('/', '_')))\n",
    "    \n",
    "    if os.path.isfile(ref_table_path) :\n",
    "        df_ref = pd.read_csv(ref_table_path)        \n",
    "    \n",
    "        df_ref['total_nb_resources'] = 1\n",
    "        df_ref['error_type'].fillna('no-error', inplace=True)\n",
    "\n",
    "        cols_to_sum = ['total_nb_resources']\n",
    "        cols_to_sum += [col for col in df_ref.columns if col.startswith('is_')]\n",
    "        df_report = df_ref.groupby(['resource_found_by', 'error_type']).agg({col:sum for col in cols_to_sum}).reset_index()\n",
    "\n",
    "        df_report.to_excel(os.path.join(report_tables_path, 'report_table_{}.xlsx'.format(schema_name.replace('/', '_'))), index=False)\n",
    "\n",
    "        print('{} - ✅ Report done for schema {}'.format(datetime.today(), schema_name))\n",
    "        \n",
    "    else :\n",
    "        print('{} - ❌ No reference table for schema {}'.format(datetime.today(), schema_name))"
   ],
   "outputs": [
    {
     "output_type": "stream",
     "name": "stdout",
     "text": [
      "2022-02-18 15:56:10.191252 - ❌ No reference table for schema NaturalSolutions/schema-arbre\n",
      "2022-02-18 15:56:10.227877 - ✅ Report done for schema etalab/schema-lieux-covoiturage\n",
      "CPU times: user 30.1 ms, sys: 4.61 ms, total: 34.7 ms\n",
      "Wall time: 37.1 ms\n"
     ]
    }
   ],
   "metadata": {}
  },
  {
   "cell_type": "code",
   "execution_count": 138,
   "source": [
    "shutil.move(TMP_FOLDER + 'consolidated_data', OUTPUT_DATA_FOLDER)\n",
    "shutil.move(TMP_FOLDER + 'ref_tables', OUTPUT_DATA_FOLDER)\n",
    "shutil.move(TMP_FOLDER + 'report_tables', OUTPUT_DATA_FOLDER)"
   ],
   "outputs": [
    {
     "output_type": "error",
     "ename": "NameError",
     "evalue": "name 'TMP_FOLDER' is not defined",
     "traceback": [
      "\u001b[0;31m---------------------------------------------------------------------------\u001b[0m",
      "\u001b[0;31mNameError\u001b[0m                                 Traceback (most recent call last)",
      "\u001b[0;32m/var/folders/cg/b2_z5vjn52x7nyrtvtmwqsqh0000gp/T/ipykernel_80641/2909811768.py\u001b[0m in \u001b[0;36m<module>\u001b[0;34m\u001b[0m\n\u001b[0;32m----> 1\u001b[0;31m \u001b[0mshutil\u001b[0m\u001b[0;34m.\u001b[0m\u001b[0mmove\u001b[0m\u001b[0;34m(\u001b[0m\u001b[0mTMP_FOLDER\u001b[0m \u001b[0;34m+\u001b[0m \u001b[0;34m'consolidated_data'\u001b[0m\u001b[0;34m,\u001b[0m \u001b[0mOUTPUT_DATA_FOLDER\u001b[0m\u001b[0;34m)\u001b[0m\u001b[0;34m\u001b[0m\u001b[0;34m\u001b[0m\u001b[0m\n\u001b[0m\u001b[1;32m      2\u001b[0m \u001b[0mshutil\u001b[0m\u001b[0;34m.\u001b[0m\u001b[0mmove\u001b[0m\u001b[0;34m(\u001b[0m\u001b[0mTMP_FOLDER\u001b[0m \u001b[0;34m+\u001b[0m \u001b[0;34m'ref_tables'\u001b[0m\u001b[0;34m,\u001b[0m \u001b[0mOUTPUT_DATA_FOLDER\u001b[0m\u001b[0;34m)\u001b[0m\u001b[0;34m\u001b[0m\u001b[0;34m\u001b[0m\u001b[0m\n\u001b[1;32m      3\u001b[0m \u001b[0mshutil\u001b[0m\u001b[0;34m.\u001b[0m\u001b[0mmove\u001b[0m\u001b[0;34m(\u001b[0m\u001b[0mTMP_FOLDER\u001b[0m \u001b[0;34m+\u001b[0m \u001b[0;34m'report_tables'\u001b[0m\u001b[0;34m,\u001b[0m \u001b[0mOUTPUT_DATA_FOLDER\u001b[0m\u001b[0;34m)\u001b[0m\u001b[0;34m\u001b[0m\u001b[0;34m\u001b[0m\u001b[0m\n",
      "\u001b[0;31mNameError\u001b[0m: name 'TMP_FOLDER' is not defined"
     ]
    }
   ],
   "metadata": {}
  },
  {
   "cell_type": "code",
   "execution_count": null,
   "source": [],
   "outputs": [],
   "metadata": {}
  }
 ],
 "metadata": {
  "kernelspec": {
   "name": "python3",
   "display_name": "Python 3.8.12 64-bit ('analytics': pyenv)"
  },
  "language_info": {
   "codemirror_mode": {
    "name": "ipython",
    "version": 3
   },
   "file_extension": ".py",
   "mimetype": "text/x-python",
   "name": "python",
   "nbconvert_exporter": "python",
   "pygments_lexer": "ipython3",
   "version": "3.8.12"
  },
  "interpreter": {
   "hash": "19ece5f74f8baf7d074e990d308e7c75b7ac8b98c7c6e76faedd0c3526d006f2"
  }
 },
 "nbformat": 4,
 "nbformat_minor": 4
}