{
 "cells": [
  {
   "cell_type": "code",
   "execution_count": 13,
   "source": [
    "from pathlib import Path\n",
    "import json\n",
    "import sys\n",
    "import logging\n",
    "import yaml\n",
    "import requests\n",
    "import jsonschema"
   ],
   "outputs": [],
   "metadata": {}
  },
  {
   "cell_type": "code",
   "execution_count": 14,
   "source": [
    "logger = logging.getLogger(__name__)"
   ],
   "outputs": [],
   "metadata": {}
  },
  {
   "cell_type": "code",
   "execution_count": 15,
   "source": [
    "DATA_GOUV_API = \"https://www.data.gouv.fr/api/1\"\n",
    "RECOMMENDATION_SCORE = 50\n",
    "CATALOG_SCHEMAS = 'https://schema.data.gouv.fr/schemas/schemas.json'\n",
    "JSONSCHEMA_URL = \"https://raw.githubusercontent.com/opendatateam/udata-recommendations/master/udata_recommendations/schema.json\""
   ],
   "outputs": [],
   "metadata": {}
  },
  {
   "cell_type": "code",
   "execution_count": 16,
   "source": [
    "def consolidated_schemas():\n",
    "    \"\"\"Find TableSchema schemas that are consolidated\"\"\"\n",
    "    r = requests.get(CATALOG_SCHEMAS)\n",
    "    schemas = r.json()['schemas']\n",
    "    return { \n",
    "        s['name']: s['consolidation_dataset_id'] \n",
    "        for s in schemas \n",
    "        if s['consolidation_dataset_id'] and s['schema_type'] == 'tableschema'\n",
    "    }"
   ],
   "outputs": [],
   "metadata": {}
  },
  {
   "cell_type": "code",
   "execution_count": 17,
   "source": [
    "def datasets_for_schema(schema):\n",
    "    \"\"\"Fetch datasets on datagouv with the schema attribute set to a specific value\"\"\"\n",
    "    ids = []\n",
    "    url = f\"{DATA_GOUV_API}/datasets?schema={schema}&page_size=100\"\n",
    "    while True:\n",
    "        response = requests.get(url, timeout=10)\n",
    "        response.raise_for_status()\n",
    "        data = response.json()\n",
    "\n",
    "        ids.extend([d[\"id\"] for d in data[\"data\"]])\n",
    "        if data[\"next_page\"] is None:\n",
    "            break\n",
    "        url = data[\"next_page\"]\n",
    "\n",
    "    return ids"
   ],
   "outputs": [],
   "metadata": {}
  },
  {
   "cell_type": "code",
   "execution_count": 18,
   "source": [
    "def build_recommendation(consolidated_dataset_id, dataset_id):\n",
    "    return {\n",
    "        \"id\": dataset_id,\n",
    "        \"recommendations\": [\n",
    "            {\"id\": consolidated_dataset_id, \"score\": RECOMMENDATION_SCORE}\n",
    "        ],\n",
    "    }"
   ],
   "outputs": [],
   "metadata": {}
  },
  {
   "cell_type": "code",
   "execution_count": 19,
   "source": [
    "def validate_recommendations(recommendations):\n",
    "    \"\"\"\" Validate recommendations according to the JSON schema\"\"\"\n",
    "    r = requests.get(JSONSCHEMA_URL, timeout=10)\n",
    "    r.raise_for_status()\n",
    "    schema = r.json()\n",
    "\n",
    "    jsonschema.validate(recommendations, schema=schema)"
   ],
   "outputs": [],
   "metadata": {}
  },
  {
   "cell_type": "code",
   "execution_count": 20,
   "source": [
    "recommendations = []\n",
    "for schema_id, schema_details in consolidated_schemas().items():\n",
    "    consolidated_dataset_id = schema_details\n",
    "    logger.info(\n",
    "        f\"Working on schema {schema_id}, consolidated on {consolidated_dataset_id}\"\n",
    "    )\n",
    "\n",
    "    dataset_ids = datasets_for_schema(schema_id)\n",
    "    logger.info(f\"Found {len(dataset_ids)} associated with schema {schema_id}\")\n",
    "\n",
    "    recommendations.extend([\n",
    "        build_recommendation(consolidated_dataset_id, d) for d in dataset_ids\n",
    "    ])\n",
    "\n",
    "validate_recommendations(recommendations)"
   ],
   "outputs": [
    {
     "output_type": "stream",
     "name": "stdout",
     "text": [
      "etalab/schema-irve\n",
      "etalab/schema-lieux-covoiturage\n",
      "etalab/schema-stationnement\n"
     ]
    }
   ],
   "metadata": {}
  },
  {
   "cell_type": "code",
   "execution_count": null,
   "source": [
    "with open(TMP_FOLDER + '/recommendations.json', 'w') as fp:\n",
    "    json.dump(recommendations, fp, indent=2)"
   ],
   "outputs": [],
   "metadata": {}
  }
 ],
 "metadata": {
  "orig_nbformat": 4,
  "language_info": {
   "name": "python",
   "version": "3.8.12",
   "mimetype": "text/x-python",
   "codemirror_mode": {
    "name": "ipython",
    "version": 3
   },
   "pygments_lexer": "ipython3",
   "nbconvert_exporter": "python",
   "file_extension": ".py"
  },
  "kernelspec": {
   "name": "python3",
   "display_name": "Python 3.8.12 64-bit ('analytics': pyenv)"
  },
  "interpreter": {
   "hash": "19ece5f74f8baf7d074e990d308e7c75b7ac8b98c7c6e76faedd0c3526d006f2"
  }
 },
 "nbformat": 4,
 "nbformat_minor": 2
}